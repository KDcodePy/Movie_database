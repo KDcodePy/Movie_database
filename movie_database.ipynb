{
 "cells": [
  {
   "attachments": {},
   "cell_type": "markdown",
   "metadata": {},
   "source": [
    "# Movie Database with SQL \n",
    "Author: Kim Hazed Delfino\n"
   ]
  },
  {
   "attachments": {},
   "cell_type": "markdown",
   "metadata": {},
   "source": [
    "## Imports "
   ]
  },
  {
   "cell_type": "code",
   "execution_count": 196,
   "metadata": {},
   "outputs": [],
   "source": [
    "import pandas as pd\n",
    "import numpy as np"
   ]
  },
  {
   "attachments": {},
   "cell_type": "markdown",
   "metadata": {},
   "source": [
    "## Load Dataset"
   ]
  },
  {
   "cell_type": "code",
   "execution_count": 213,
   "metadata": {},
   "outputs": [],
   "source": [
    "# Load files\n",
    "basics_url = \"https://datasets.imdbws.com/title.basics.tsv.gz\"\n",
    "ratings_url = \"https://datasets.imdbws.com/title.ratings.tsv.gz\"\n",
    "akas_url = \"https://datasets.imdbws.com/title.akas.tsv.gz\"\n",
    "\n",
    "basics = pd.read_csv(basics_url, sep='\\t', low_memory=False)\n",
    "ratings = pd.read_csv(ratings_url, sep='\\t', low_memory=False)\n",
    "akas = pd.read_csv(akas_url, sep='\\t', low_memory=False)"
   ]
  },
  {
   "attachments": {},
   "cell_type": "markdown",
   "metadata": {},
   "source": [
    "### Preprossing - Title Basics"
   ]
  },
  {
   "cell_type": "code",
   "execution_count": 229,
   "metadata": {},
   "outputs": [],
   "source": [
    "# Drop missing values from runtimeMinutes and genre\n",
    "runtime_filter = basics['runtimeMinutes'] != '\\\\N'\n",
    "\n",
    "genre_filter = basics['genres'] != '\\\\N'\n",
    "\n"
   ]
  },
  {
   "cell_type": "code",
   "execution_count": 230,
   "metadata": {},
   "outputs": [],
   "source": [
    "# Create new filtered df \n",
    "movie_rtime_genre_filtered = basics[runtime_filter & genre_filter]"
   ]
  },
  {
   "cell_type": "code",
   "execution_count": 232,
   "metadata": {},
   "outputs": [],
   "source": [
    "# Filter titleType and startYear\n",
    "type_filter = movie_rtime_genre_filtered['titleType'] == 'movie'\n",
    "\n",
    "years_filter = movie_rtime_genre_filtered['startYear'] != '\\\\N'"
   ]
  },
  {
   "cell_type": "code",
   "execution_count": 239,
   "metadata": {},
   "outputs": [],
   "source": [
    "# Create filtered df \n",
    "movies_df = movie_rtime_genre_filtered[type_filter & years_filter]"
   ]
  },
  {
   "cell_type": "code",
   "execution_count": 240,
   "metadata": {},
   "outputs": [
    {
     "name": "stdout",
     "output_type": "stream",
     "text": [
      "<class 'pandas.core.frame.DataFrame'>\n",
      "Int64Index: 376423 entries, 8 to 9875688\n",
      "Data columns (total 9 columns):\n",
      " #   Column          Non-Null Count   Dtype \n",
      "---  ------          --------------   ----- \n",
      " 0   tconst          376423 non-null  object\n",
      " 1   titleType       376423 non-null  object\n",
      " 2   primaryTitle    376423 non-null  object\n",
      " 3   originalTitle   376423 non-null  object\n",
      " 4   isAdult         376423 non-null  object\n",
      " 5   startYear       376423 non-null  object\n",
      " 6   endYear         376423 non-null  object\n",
      " 7   runtimeMinutes  376423 non-null  object\n",
      " 8   genres          376423 non-null  object\n",
      "dtypes: object(9)\n",
      "memory usage: 28.7+ MB\n"
     ]
    }
   ],
   "source": [
    "movies_df.info()"
   ]
  },
  {
   "cell_type": "code",
   "execution_count": 243,
   "metadata": {},
   "outputs": [
    {
     "name": "stderr",
     "output_type": "stream",
     "text": [
      "C:\\Users\\kdelfino\\AppData\\Local\\Temp\\ipykernel_21820\\3245295653.py:2: SettingWithCopyWarning: \n",
      "A value is trying to be set on a copy of a slice from a DataFrame.\n",
      "Try using .loc[row_indexer,col_indexer] = value instead\n",
      "\n",
      "See the caveats in the documentation: https://pandas.pydata.org/pandas-docs/stable/user_guide/indexing.html#returning-a-view-versus-a-copy\n",
      "  movies_df['startYear'] = movies_df['startYear'].astype(int)\n"
     ]
    }
   ],
   "source": [
    "# Convert startYear value into int dtype\n",
    "movies_df['startYear'] = movies_df['startYear'].astype(int)"
   ]
  },
  {
   "cell_type": "code",
   "execution_count": 244,
   "metadata": {},
   "outputs": [
    {
     "name": "stdout",
     "output_type": "stream",
     "text": [
      "<class 'pandas.core.frame.DataFrame'>\n",
      "Int64Index: 376423 entries, 8 to 9875688\n",
      "Data columns (total 9 columns):\n",
      " #   Column          Non-Null Count   Dtype \n",
      "---  ------          --------------   ----- \n",
      " 0   tconst          376423 non-null  object\n",
      " 1   titleType       376423 non-null  object\n",
      " 2   primaryTitle    376423 non-null  object\n",
      " 3   originalTitle   376423 non-null  object\n",
      " 4   isAdult         376423 non-null  object\n",
      " 5   startYear       376423 non-null  int32 \n",
      " 6   endYear         376423 non-null  object\n",
      " 7   runtimeMinutes  376423 non-null  object\n",
      " 8   genres          376423 non-null  object\n",
      "dtypes: int32(1), object(8)\n",
      "memory usage: 27.3+ MB\n"
     ]
    }
   ],
   "source": [
    "movies_df.info()"
   ]
  },
  {
   "cell_type": "code",
   "execution_count": 246,
   "metadata": {},
   "outputs": [
    {
     "data": {
      "text/plain": [
       "2029"
      ]
     },
     "execution_count": 246,
     "metadata": {},
     "output_type": "execute_result"
    }
   ],
   "source": [
    "max(movies_df['startYear'])"
   ]
  },
  {
   "cell_type": "code",
   "execution_count": 247,
   "metadata": {},
   "outputs": [],
   "source": [
    "# Filter movies with only startYear 2000 to 2022\n",
    "year_filter_2000 = movies_df['startYear'] >= 2000\n",
    "year_filter_2022 = movies_df['startYear'] < 2023\n",
    "movies_20_to_22 = movies_df[year_filter_2000 & year_filter_2022]"
   ]
  },
  {
   "cell_type": "code",
   "execution_count": 248,
   "metadata": {},
   "outputs": [
    {
     "name": "stdout",
     "output_type": "stream",
     "text": [
      "<class 'pandas.core.frame.DataFrame'>\n",
      "Int64Index: 223494 entries, 13082 to 9875688\n",
      "Data columns (total 9 columns):\n",
      " #   Column          Non-Null Count   Dtype \n",
      "---  ------          --------------   ----- \n",
      " 0   tconst          223494 non-null  object\n",
      " 1   titleType       223494 non-null  object\n",
      " 2   primaryTitle    223494 non-null  object\n",
      " 3   originalTitle   223494 non-null  object\n",
      " 4   isAdult         223494 non-null  object\n",
      " 5   startYear       223494 non-null  int32 \n",
      " 6   endYear         223494 non-null  object\n",
      " 7   runtimeMinutes  223494 non-null  object\n",
      " 8   genres          223494 non-null  object\n",
      "dtypes: int32(1), object(8)\n",
      "memory usage: 16.2+ MB\n"
     ]
    }
   ],
   "source": [
    "movies_20_to_22.info()"
   ]
  },
  {
   "cell_type": "code",
   "execution_count": 249,
   "metadata": {},
   "outputs": [
    {
     "name": "stderr",
     "output_type": "stream",
     "text": [
      "C:\\Users\\kdelfino\\AppData\\Local\\Temp\\ipykernel_21820\\3043684752.py:2: SettingWithCopyWarning: \n",
      "A value is trying to be set on a copy of a slice from a DataFrame\n",
      "\n",
      "See the caveats in the documentation: https://pandas.pydata.org/pandas-docs/stable/user_guide/indexing.html#returning-a-view-versus-a-copy\n",
      "  movies_20_to_22.replace({'\\\\N':np.nan},inplace=True)\n"
     ]
    }
   ],
   "source": [
    "# Replace '\\N' values with np.nan\n",
    "movies_20_to_22.replace({'\\\\N':np.nan},inplace=True)\n"
   ]
  },
  {
   "cell_type": "code",
   "execution_count": 252,
   "metadata": {},
   "outputs": [
    {
     "name": "stdout",
     "output_type": "stream",
     "text": [
      "<class 'pandas.core.frame.DataFrame'>\n",
      "Int64Index: 223494 entries, 13082 to 9875688\n",
      "Data columns (total 9 columns):\n",
      " #   Column          Non-Null Count   Dtype  \n",
      "---  ------          --------------   -----  \n",
      " 0   tconst          223494 non-null  object \n",
      " 1   titleType       223494 non-null  object \n",
      " 2   primaryTitle    223494 non-null  object \n",
      " 3   originalTitle   223494 non-null  object \n",
      " 4   isAdult         223494 non-null  object \n",
      " 5   startYear       223494 non-null  int32  \n",
      " 6   endYear         0 non-null       float64\n",
      " 7   runtimeMinutes  223494 non-null  object \n",
      " 8   genres          223494 non-null  object \n",
      "dtypes: float64(1), int32(1), object(7)\n",
      "memory usage: 16.2+ MB\n"
     ]
    }
   ],
   "source": [
    "# Check df\n",
    "movies_20_to_22.info()"
   ]
  },
  {
   "cell_type": "code",
   "execution_count": 251,
   "metadata": {},
   "outputs": [
    {
     "data": {
      "text/html": [
       "<div>\n",
       "<style scoped>\n",
       "    .dataframe tbody tr th:only-of-type {\n",
       "        vertical-align: middle;\n",
       "    }\n",
       "\n",
       "    .dataframe tbody tr th {\n",
       "        vertical-align: top;\n",
       "    }\n",
       "\n",
       "    .dataframe thead th {\n",
       "        text-align: right;\n",
       "    }\n",
       "</style>\n",
       "<table border=\"1\" class=\"dataframe\">\n",
       "  <thead>\n",
       "    <tr style=\"text-align: right;\">\n",
       "      <th></th>\n",
       "      <th>tconst</th>\n",
       "      <th>titleType</th>\n",
       "      <th>primaryTitle</th>\n",
       "      <th>originalTitle</th>\n",
       "      <th>isAdult</th>\n",
       "      <th>startYear</th>\n",
       "      <th>endYear</th>\n",
       "      <th>runtimeMinutes</th>\n",
       "      <th>genres</th>\n",
       "    </tr>\n",
       "  </thead>\n",
       "  <tbody>\n",
       "    <tr>\n",
       "      <th>13082</th>\n",
       "      <td>tt0013274</td>\n",
       "      <td>movie</td>\n",
       "      <td>Istoriya grazhdanskoy voyny</td>\n",
       "      <td>Istoriya grazhdanskoy voyny</td>\n",
       "      <td>0</td>\n",
       "      <td>2021</td>\n",
       "      <td>NaN</td>\n",
       "      <td>94</td>\n",
       "      <td>Documentary</td>\n",
       "    </tr>\n",
       "    <tr>\n",
       "      <th>34803</th>\n",
       "      <td>tt0035423</td>\n",
       "      <td>movie</td>\n",
       "      <td>Kate &amp; Leopold</td>\n",
       "      <td>Kate &amp; Leopold</td>\n",
       "      <td>0</td>\n",
       "      <td>2001</td>\n",
       "      <td>NaN</td>\n",
       "      <td>118</td>\n",
       "      <td>Comedy,Fantasy,Romance</td>\n",
       "    </tr>\n",
       "    <tr>\n",
       "      <th>61115</th>\n",
       "      <td>tt0062336</td>\n",
       "      <td>movie</td>\n",
       "      <td>The Tango of the Widower and Its Distorting Mi...</td>\n",
       "      <td>El tango del viudo y su espejo deformante</td>\n",
       "      <td>0</td>\n",
       "      <td>2020</td>\n",
       "      <td>NaN</td>\n",
       "      <td>70</td>\n",
       "      <td>Drama</td>\n",
       "    </tr>\n",
       "    <tr>\n",
       "      <th>67668</th>\n",
       "      <td>tt0069049</td>\n",
       "      <td>movie</td>\n",
       "      <td>The Other Side of the Wind</td>\n",
       "      <td>The Other Side of the Wind</td>\n",
       "      <td>0</td>\n",
       "      <td>2018</td>\n",
       "      <td>NaN</td>\n",
       "      <td>122</td>\n",
       "      <td>Drama</td>\n",
       "    </tr>\n",
       "    <tr>\n",
       "      <th>76058</th>\n",
       "      <td>tt0077684</td>\n",
       "      <td>movie</td>\n",
       "      <td>Histórias de Combóios em Portugal</td>\n",
       "      <td>Histórias de Combóios em Portugal</td>\n",
       "      <td>0</td>\n",
       "      <td>2022</td>\n",
       "      <td>NaN</td>\n",
       "      <td>46</td>\n",
       "      <td>Documentary</td>\n",
       "    </tr>\n",
       "  </tbody>\n",
       "</table>\n",
       "</div>"
      ],
      "text/plain": [
       "          tconst titleType                                       primaryTitle  \\\n",
       "13082  tt0013274     movie                        Istoriya grazhdanskoy voyny   \n",
       "34803  tt0035423     movie                                     Kate & Leopold   \n",
       "61115  tt0062336     movie  The Tango of the Widower and Its Distorting Mi...   \n",
       "67668  tt0069049     movie                         The Other Side of the Wind   \n",
       "76058  tt0077684     movie                  Histórias de Combóios em Portugal   \n",
       "\n",
       "                                   originalTitle isAdult  startYear  endYear  \\\n",
       "13082                Istoriya grazhdanskoy voyny       0       2021      NaN   \n",
       "34803                             Kate & Leopold       0       2001      NaN   \n",
       "61115  El tango del viudo y su espejo deformante       0       2020      NaN   \n",
       "67668                 The Other Side of the Wind       0       2018      NaN   \n",
       "76058          Histórias de Combóios em Portugal       0       2022      NaN   \n",
       "\n",
       "      runtimeMinutes                  genres  \n",
       "13082             94             Documentary  \n",
       "34803            118  Comedy,Fantasy,Romance  \n",
       "61115             70                   Drama  \n",
       "67668            122                   Drama  \n",
       "76058             46             Documentary  "
      ]
     },
     "execution_count": 251,
     "metadata": {},
     "output_type": "execute_result"
    }
   ],
   "source": [
    "movies_20_to_22.head()"
   ]
  },
  {
   "cell_type": "code",
   "execution_count": 257,
   "metadata": {},
   "outputs": [],
   "source": [
    "# Filter out Documentary in our df\n",
    "is_documentary = movies_20_to_22['genres'].str.contains('documentary',case=False)\n",
    "movies_20_22_filtered = movies_20_to_22[~is_documentary]\n",
    "\n"
   ]
  },
  {
   "cell_type": "code",
   "execution_count": 258,
   "metadata": {},
   "outputs": [
    {
     "name": "stdout",
     "output_type": "stream",
     "text": [
      "<class 'pandas.core.frame.DataFrame'>\n",
      "Int64Index: 147604 entries, 34803 to 9875588\n",
      "Data columns (total 9 columns):\n",
      " #   Column          Non-Null Count   Dtype  \n",
      "---  ------          --------------   -----  \n",
      " 0   tconst          147604 non-null  object \n",
      " 1   titleType       147604 non-null  object \n",
      " 2   primaryTitle    147604 non-null  object \n",
      " 3   originalTitle   147604 non-null  object \n",
      " 4   isAdult         147604 non-null  object \n",
      " 5   startYear       147604 non-null  int32  \n",
      " 6   endYear         0 non-null       float64\n",
      " 7   runtimeMinutes  147604 non-null  object \n",
      " 8   genres          147604 non-null  object \n",
      "dtypes: float64(1), int32(1), object(7)\n",
      "memory usage: 10.7+ MB\n"
     ]
    }
   ],
   "source": [
    "movies_20_22_filtered.info()"
   ]
  },
  {
   "attachments": {},
   "cell_type": "markdown",
   "metadata": {},
   "source": [
    "### Preprocessing - AKAs"
   ]
  },
  {
   "cell_type": "code",
   "execution_count": 278,
   "metadata": {},
   "outputs": [
    {
     "name": "stdout",
     "output_type": "stream",
     "text": [
      "<class 'pandas.core.frame.DataFrame'>\n",
      "Int64Index: 1438843 entries, 5 to 35996146\n",
      "Data columns (total 8 columns):\n",
      " #   Column           Non-Null Count    Dtype \n",
      "---  ------           --------------    ----- \n",
      " 0   titleId          1438843 non-null  object\n",
      " 1   ordering         1438843 non-null  int64 \n",
      " 2   title            1438843 non-null  object\n",
      " 3   region           1438843 non-null  object\n",
      " 4   language         1438843 non-null  object\n",
      " 5   types            1438843 non-null  object\n",
      " 6   attributes       1438843 non-null  object\n",
      " 7   isOriginalTitle  1438843 non-null  object\n",
      "dtypes: int64(1), object(7)\n",
      "memory usage: 98.8+ MB\n"
     ]
    }
   ],
   "source": [
    "# Check df \n",
    "akas.info()"
   ]
  },
  {
   "cell_type": "code",
   "execution_count": 279,
   "metadata": {},
   "outputs": [],
   "source": [
    "# Keep only US region\n",
    "akas_us = akas[akas['region']== 'US']"
   ]
  },
  {
   "cell_type": "code",
   "execution_count": 281,
   "metadata": {},
   "outputs": [],
   "source": [
    "# Replace '\\\\N' with np.nan\n",
    "akas_us.replace({'\\\\N':np.nan},inplace=True)"
   ]
  },
  {
   "cell_type": "code",
   "execution_count": 282,
   "metadata": {},
   "outputs": [
    {
     "data": {
      "text/html": [
       "<div>\n",
       "<style scoped>\n",
       "    .dataframe tbody tr th:only-of-type {\n",
       "        vertical-align: middle;\n",
       "    }\n",
       "\n",
       "    .dataframe tbody tr th {\n",
       "        vertical-align: top;\n",
       "    }\n",
       "\n",
       "    .dataframe thead th {\n",
       "        text-align: right;\n",
       "    }\n",
       "</style>\n",
       "<table border=\"1\" class=\"dataframe\">\n",
       "  <thead>\n",
       "    <tr style=\"text-align: right;\">\n",
       "      <th></th>\n",
       "      <th>titleId</th>\n",
       "      <th>ordering</th>\n",
       "      <th>title</th>\n",
       "      <th>region</th>\n",
       "      <th>language</th>\n",
       "      <th>types</th>\n",
       "      <th>attributes</th>\n",
       "      <th>isOriginalTitle</th>\n",
       "    </tr>\n",
       "  </thead>\n",
       "  <tbody>\n",
       "    <tr>\n",
       "      <th>24789755</th>\n",
       "      <td>tt27526101</td>\n",
       "      <td>1</td>\n",
       "      <td>The Things People Want</td>\n",
       "      <td>US</td>\n",
       "      <td>NaN</td>\n",
       "      <td>NaN</td>\n",
       "      <td>NaN</td>\n",
       "      <td>0</td>\n",
       "    </tr>\n",
       "    <tr>\n",
       "      <th>27949328</th>\n",
       "      <td>tt4777018</td>\n",
       "      <td>3</td>\n",
       "      <td>The Mystery of Casa Matusita II: The Five Guests</td>\n",
       "      <td>US</td>\n",
       "      <td>NaN</td>\n",
       "      <td>NaN</td>\n",
       "      <td>NaN</td>\n",
       "      <td>0</td>\n",
       "    </tr>\n",
       "    <tr>\n",
       "      <th>10851852</th>\n",
       "      <td>tt13405164</td>\n",
       "      <td>2</td>\n",
       "      <td>Suspended Homicide</td>\n",
       "      <td>US</td>\n",
       "      <td>NaN</td>\n",
       "      <td>imdbDisplay</td>\n",
       "      <td>NaN</td>\n",
       "      <td>0</td>\n",
       "    </tr>\n",
       "    <tr>\n",
       "      <th>31020331</th>\n",
       "      <td>tt7010566</td>\n",
       "      <td>1</td>\n",
       "      <td>Dirty Hollywood</td>\n",
       "      <td>US</td>\n",
       "      <td>NaN</td>\n",
       "      <td>imdbDisplay</td>\n",
       "      <td>NaN</td>\n",
       "      <td>0</td>\n",
       "    </tr>\n",
       "    <tr>\n",
       "      <th>12167008</th>\n",
       "      <td>tt14039086</td>\n",
       "      <td>17</td>\n",
       "      <td>Run &amp; Gun</td>\n",
       "      <td>US</td>\n",
       "      <td>NaN</td>\n",
       "      <td>imdbDisplay</td>\n",
       "      <td>NaN</td>\n",
       "      <td>0</td>\n",
       "    </tr>\n",
       "  </tbody>\n",
       "</table>\n",
       "</div>"
      ],
      "text/plain": [
       "             titleId  ordering  \\\n",
       "24789755  tt27526101         1   \n",
       "27949328   tt4777018         3   \n",
       "10851852  tt13405164         2   \n",
       "31020331   tt7010566         1   \n",
       "12167008  tt14039086        17   \n",
       "\n",
       "                                                     title region language  \\\n",
       "24789755                            The Things People Want     US      NaN   \n",
       "27949328  The Mystery of Casa Matusita II: The Five Guests     US      NaN   \n",
       "10851852                                Suspended Homicide     US      NaN   \n",
       "31020331                                   Dirty Hollywood     US      NaN   \n",
       "12167008                                         Run & Gun     US      NaN   \n",
       "\n",
       "                types attributes isOriginalTitle  \n",
       "24789755          NaN        NaN               0  \n",
       "27949328          NaN        NaN               0  \n",
       "10851852  imdbDisplay        NaN               0  \n",
       "31020331  imdbDisplay        NaN               0  \n",
       "12167008  imdbDisplay        NaN               0  "
      ]
     },
     "execution_count": 282,
     "metadata": {},
     "output_type": "execute_result"
    }
   ],
   "source": [
    "# Double check\n",
    "akas_us.sample(5)"
   ]
  },
  {
   "cell_type": "code",
   "execution_count": 283,
   "metadata": {},
   "outputs": [],
   "source": [
    "# Filter only US using AKAs dataset \n",
    "us_filter = movies_20_22_filtered['tconst'].isin(akas_us['titleId'])\n"
   ]
  },
  {
   "cell_type": "code",
   "execution_count": 284,
   "metadata": {},
   "outputs": [],
   "source": [
    "# Create filtered df\n",
    "us_movies_20_22_df = movies_20_22_filtered[us_filter]"
   ]
  },
  {
   "cell_type": "code",
   "execution_count": 285,
   "metadata": {},
   "outputs": [
    {
     "name": "stdout",
     "output_type": "stream",
     "text": [
      "<class 'pandas.core.frame.DataFrame'>\n",
      "Int64Index: 86744 entries, 34803 to 9875504\n",
      "Data columns (total 9 columns):\n",
      " #   Column          Non-Null Count  Dtype  \n",
      "---  ------          --------------  -----  \n",
      " 0   tconst          86744 non-null  object \n",
      " 1   titleType       86744 non-null  object \n",
      " 2   primaryTitle    86744 non-null  object \n",
      " 3   originalTitle   86744 non-null  object \n",
      " 4   isAdult         86744 non-null  object \n",
      " 5   startYear       86744 non-null  int32  \n",
      " 6   endYear         0 non-null      float64\n",
      " 7   runtimeMinutes  86744 non-null  object \n",
      " 8   genres          86744 non-null  object \n",
      "dtypes: float64(1), int32(1), object(7)\n",
      "memory usage: 6.3+ MB\n"
     ]
    }
   ],
   "source": [
    "# Doublec check df \n",
    "us_movies_20_22_df.info()"
   ]
  },
  {
   "cell_type": "code",
   "execution_count": 286,
   "metadata": {},
   "outputs": [
    {
     "data": {
      "text/html": [
       "<div>\n",
       "<style scoped>\n",
       "    .dataframe tbody tr th:only-of-type {\n",
       "        vertical-align: middle;\n",
       "    }\n",
       "\n",
       "    .dataframe tbody tr th {\n",
       "        vertical-align: top;\n",
       "    }\n",
       "\n",
       "    .dataframe thead th {\n",
       "        text-align: right;\n",
       "    }\n",
       "</style>\n",
       "<table border=\"1\" class=\"dataframe\">\n",
       "  <thead>\n",
       "    <tr style=\"text-align: right;\">\n",
       "      <th></th>\n",
       "      <th>tconst</th>\n",
       "      <th>titleType</th>\n",
       "      <th>primaryTitle</th>\n",
       "      <th>originalTitle</th>\n",
       "      <th>isAdult</th>\n",
       "      <th>startYear</th>\n",
       "      <th>endYear</th>\n",
       "      <th>runtimeMinutes</th>\n",
       "      <th>genres</th>\n",
       "    </tr>\n",
       "  </thead>\n",
       "  <tbody>\n",
       "    <tr>\n",
       "      <th>7986514</th>\n",
       "      <td>tt5764222</td>\n",
       "      <td>movie</td>\n",
       "      <td>Killer 2</td>\n",
       "      <td>Siu nin do sou</td>\n",
       "      <td>0</td>\n",
       "      <td>2003</td>\n",
       "      <td>NaN</td>\n",
       "      <td>74</td>\n",
       "      <td>Crime</td>\n",
       "    </tr>\n",
       "    <tr>\n",
       "      <th>4699810</th>\n",
       "      <td>tt1776081</td>\n",
       "      <td>movie</td>\n",
       "      <td>Baker</td>\n",
       "      <td>Baker</td>\n",
       "      <td>0</td>\n",
       "      <td>2011</td>\n",
       "      <td>NaN</td>\n",
       "      <td>127</td>\n",
       "      <td>Action,Drama</td>\n",
       "    </tr>\n",
       "    <tr>\n",
       "      <th>369452</th>\n",
       "      <td>tt0385703</td>\n",
       "      <td>movie</td>\n",
       "      <td>The Weakness of the Bolshevik</td>\n",
       "      <td>La flaqueza del bolchevique</td>\n",
       "      <td>0</td>\n",
       "      <td>2003</td>\n",
       "      <td>NaN</td>\n",
       "      <td>95</td>\n",
       "      <td>Adventure,Drama,Romance</td>\n",
       "    </tr>\n",
       "    <tr>\n",
       "      <th>171838</th>\n",
       "      <td>tt0178043</td>\n",
       "      <td>movie</td>\n",
       "      <td>Stranger Than Fiction</td>\n",
       "      <td>Stranger Than Fiction</td>\n",
       "      <td>0</td>\n",
       "      <td>2000</td>\n",
       "      <td>NaN</td>\n",
       "      <td>90</td>\n",
       "      <td>Comedy,Thriller</td>\n",
       "    </tr>\n",
       "    <tr>\n",
       "      <th>9121921</th>\n",
       "      <td>tt8278152</td>\n",
       "      <td>movie</td>\n",
       "      <td>Taboo Confessions: Sharing Family with Friends</td>\n",
       "      <td>Taboo Confessions: Sharing Family with Friends</td>\n",
       "      <td>1</td>\n",
       "      <td>2016</td>\n",
       "      <td>NaN</td>\n",
       "      <td>69</td>\n",
       "      <td>Adult</td>\n",
       "    </tr>\n",
       "  </tbody>\n",
       "</table>\n",
       "</div>"
      ],
      "text/plain": [
       "            tconst titleType                                    primaryTitle  \\\n",
       "7986514  tt5764222     movie                                        Killer 2   \n",
       "4699810  tt1776081     movie                                           Baker   \n",
       "369452   tt0385703     movie                   The Weakness of the Bolshevik   \n",
       "171838   tt0178043     movie                           Stranger Than Fiction   \n",
       "9121921  tt8278152     movie  Taboo Confessions: Sharing Family with Friends   \n",
       "\n",
       "                                          originalTitle isAdult  startYear  \\\n",
       "7986514                                  Siu nin do sou       0       2003   \n",
       "4699810                                           Baker       0       2011   \n",
       "369452                      La flaqueza del bolchevique       0       2003   \n",
       "171838                            Stranger Than Fiction       0       2000   \n",
       "9121921  Taboo Confessions: Sharing Family with Friends       1       2016   \n",
       "\n",
       "         endYear runtimeMinutes                   genres  \n",
       "7986514      NaN             74                    Crime  \n",
       "4699810      NaN            127             Action,Drama  \n",
       "369452       NaN             95  Adventure,Drama,Romance  \n",
       "171838       NaN             90          Comedy,Thriller  \n",
       "9121921      NaN             69                    Adult  "
      ]
     },
     "execution_count": 286,
     "metadata": {},
     "output_type": "execute_result"
    }
   ],
   "source": [
    "us_movies_20_22_df.sample(5)"
   ]
  },
  {
   "attachments": {},
   "cell_type": "markdown",
   "metadata": {},
   "source": [
    "### Preprocessing - Ratings"
   ]
  },
  {
   "cell_type": "code",
   "execution_count": 287,
   "metadata": {},
   "outputs": [
    {
     "name": "stdout",
     "output_type": "stream",
     "text": [
      "<class 'pandas.core.frame.DataFrame'>\n",
      "RangeIndex: 1314729 entries, 0 to 1314728\n",
      "Data columns (total 3 columns):\n",
      " #   Column         Non-Null Count    Dtype  \n",
      "---  ------         --------------    -----  \n",
      " 0   tconst         1314729 non-null  object \n",
      " 1   averageRating  1314729 non-null  float64\n",
      " 2   numVotes       1314729 non-null  int64  \n",
      "dtypes: float64(1), int64(1), object(1)\n",
      "memory usage: 30.1+ MB\n"
     ]
    }
   ],
   "source": [
    "# Check df\n",
    "ratings.info()"
   ]
  },
  {
   "cell_type": "code",
   "execution_count": 299,
   "metadata": {},
   "outputs": [
    {
     "data": {
      "text/html": [
       "<div>\n",
       "<style scoped>\n",
       "    .dataframe tbody tr th:only-of-type {\n",
       "        vertical-align: middle;\n",
       "    }\n",
       "\n",
       "    .dataframe tbody tr th {\n",
       "        vertical-align: top;\n",
       "    }\n",
       "\n",
       "    .dataframe thead th {\n",
       "        text-align: right;\n",
       "    }\n",
       "</style>\n",
       "<table border=\"1\" class=\"dataframe\">\n",
       "  <thead>\n",
       "    <tr style=\"text-align: right;\">\n",
       "      <th></th>\n",
       "      <th>tconst</th>\n",
       "      <th>averageRating</th>\n",
       "      <th>numVotes</th>\n",
       "    </tr>\n",
       "  </thead>\n",
       "  <tbody>\n",
       "    <tr>\n",
       "      <th>655519</th>\n",
       "      <td>tt14105790</td>\n",
       "      <td>8.9</td>\n",
       "      <td>18</td>\n",
       "    </tr>\n",
       "    <tr>\n",
       "      <th>800794</th>\n",
       "      <td>tt1874641</td>\n",
       "      <td>4.1</td>\n",
       "      <td>15</td>\n",
       "    </tr>\n",
       "    <tr>\n",
       "      <th>530979</th>\n",
       "      <td>tt11512156</td>\n",
       "      <td>8.0</td>\n",
       "      <td>7</td>\n",
       "    </tr>\n",
       "    <tr>\n",
       "      <th>32101</th>\n",
       "      <td>tt0052512</td>\n",
       "      <td>4.3</td>\n",
       "      <td>154</td>\n",
       "    </tr>\n",
       "    <tr>\n",
       "      <th>702185</th>\n",
       "      <td>tt1515742</td>\n",
       "      <td>6.8</td>\n",
       "      <td>9</td>\n",
       "    </tr>\n",
       "  </tbody>\n",
       "</table>\n",
       "</div>"
      ],
      "text/plain": [
       "            tconst  averageRating  numVotes\n",
       "655519  tt14105790            8.9        18\n",
       "800794   tt1874641            4.1        15\n",
       "530979  tt11512156            8.0         7\n",
       "32101    tt0052512            4.3       154\n",
       "702185   tt1515742            6.8         9"
      ]
     },
     "execution_count": 299,
     "metadata": {},
     "output_type": "execute_result"
    }
   ],
   "source": [
    "ratings.sample(5)"
   ]
  },
  {
   "cell_type": "code",
   "execution_count": 300,
   "metadata": {},
   "outputs": [],
   "source": [
    "# Filter only US region\n",
    "us_rating_filter =  ratings['tconst'].isin(akas_us['titleId'])"
   ]
  },
  {
   "cell_type": "code",
   "execution_count": 304,
   "metadata": {},
   "outputs": [
    {
     "name": "stderr",
     "output_type": "stream",
     "text": [
      "C:\\Users\\kdelfino\\AppData\\Local\\Temp\\ipykernel_21820\\2744651486.py:5: SettingWithCopyWarning: \n",
      "A value is trying to be set on a copy of a slice from a DataFrame\n",
      "\n",
      "See the caveats in the documentation: https://pandas.pydata.org/pandas-docs/stable/user_guide/indexing.html#returning-a-view-versus-a-copy\n",
      "  us_ratings_df.replace({'\\\\N':np.nan},inplace=True)\n"
     ]
    }
   ],
   "source": [
    "# Create filtered df \n",
    "us_ratings_df = ratings[us_rating_filter]\n",
    "\n",
    "# Replace '\\\\N' with np.nan\n",
    "us_ratings_df.replace({'\\\\N':np.nan},inplace=True)"
   ]
  },
  {
   "cell_type": "code",
   "execution_count": 305,
   "metadata": {},
   "outputs": [
    {
     "name": "stdout",
     "output_type": "stream",
     "text": [
      "<class 'pandas.core.frame.DataFrame'>\n",
      "Int64Index: 499798 entries, 0 to 1314704\n",
      "Data columns (total 3 columns):\n",
      " #   Column         Non-Null Count   Dtype  \n",
      "---  ------         --------------   -----  \n",
      " 0   tconst         499798 non-null  object \n",
      " 1   averageRating  499798 non-null  float64\n",
      " 2   numVotes       499798 non-null  int64  \n",
      "dtypes: float64(1), int64(1), object(1)\n",
      "memory usage: 15.3+ MB\n"
     ]
    }
   ],
   "source": [
    "# Double check df\n",
    "us_ratings_df.info()"
   ]
  },
  {
   "cell_type": "code",
   "execution_count": 306,
   "metadata": {},
   "outputs": [
    {
     "data": {
      "text/html": [
       "<div>\n",
       "<style scoped>\n",
       "    .dataframe tbody tr th:only-of-type {\n",
       "        vertical-align: middle;\n",
       "    }\n",
       "\n",
       "    .dataframe tbody tr th {\n",
       "        vertical-align: top;\n",
       "    }\n",
       "\n",
       "    .dataframe thead th {\n",
       "        text-align: right;\n",
       "    }\n",
       "</style>\n",
       "<table border=\"1\" class=\"dataframe\">\n",
       "  <thead>\n",
       "    <tr style=\"text-align: right;\">\n",
       "      <th></th>\n",
       "      <th>tconst</th>\n",
       "      <th>averageRating</th>\n",
       "      <th>numVotes</th>\n",
       "    </tr>\n",
       "  </thead>\n",
       "  <tbody>\n",
       "    <tr>\n",
       "      <th>69150</th>\n",
       "      <td>tt0095200</td>\n",
       "      <td>4.5</td>\n",
       "      <td>17</td>\n",
       "    </tr>\n",
       "    <tr>\n",
       "      <th>28561</th>\n",
       "      <td>tt0048383</td>\n",
       "      <td>5.6</td>\n",
       "      <td>21</td>\n",
       "    </tr>\n",
       "    <tr>\n",
       "      <th>718654</th>\n",
       "      <td>tt15526620</td>\n",
       "      <td>7.5</td>\n",
       "      <td>19</td>\n",
       "    </tr>\n",
       "    <tr>\n",
       "      <th>376444</th>\n",
       "      <td>tt0758050</td>\n",
       "      <td>5.1</td>\n",
       "      <td>19</td>\n",
       "    </tr>\n",
       "    <tr>\n",
       "      <th>179423</th>\n",
       "      <td>tt0300935</td>\n",
       "      <td>5.7</td>\n",
       "      <td>60</td>\n",
       "    </tr>\n",
       "  </tbody>\n",
       "</table>\n",
       "</div>"
      ],
      "text/plain": [
       "            tconst  averageRating  numVotes\n",
       "69150    tt0095200            4.5        17\n",
       "28561    tt0048383            5.6        21\n",
       "718654  tt15526620            7.5        19\n",
       "376444   tt0758050            5.1        19\n",
       "179423   tt0300935            5.7        60"
      ]
     },
     "execution_count": 306,
     "metadata": {},
     "output_type": "execute_result"
    }
   ],
   "source": [
    "us_ratings_df.sample(5)"
   ]
  },
  {
   "cell_type": "code",
   "execution_count": 307,
   "metadata": {},
   "outputs": [
    {
     "data": {
      "text/plain": [
       "[]"
      ]
     },
     "execution_count": 307,
     "metadata": {},
     "output_type": "execute_result"
    }
   ],
   "source": [
    "# example making new folder with os\n",
    "import os\n",
    "os.makedirs('Data/',exist_ok=True) \n",
    "# Confirm folder created\n",
    "os.listdir(\"Data/\")\n"
   ]
  },
  {
   "cell_type": "code",
   "execution_count": 309,
   "metadata": {},
   "outputs": [],
   "source": [
    "## Save dataframe to file.\n",
    "us_movies_20_22_df.to_csv(\"Data/title_basics.csv.gz\",compression='gzip',index=False)\n",
    "\n",
    "us_ratings_df.to_csv(\"Data/title_ratings.csv.gz\",compression='gzip',index=False)\n",
    "\n",
    "akas_us.to_csv(\"Data/title_akas.csv.gz\",compression='gzip',index=False)\n",
    "\n"
   ]
  }
 ],
 "metadata": {
  "kernelspec": {
   "display_name": "dojo-env",
   "language": "python",
   "name": "python3"
  },
  "language_info": {
   "codemirror_mode": {
    "name": "ipython",
    "version": 3
   },
   "file_extension": ".py",
   "mimetype": "text/x-python",
   "name": "python",
   "nbconvert_exporter": "python",
   "pygments_lexer": "ipython3",
   "version": "3.9.15"
  },
  "orig_nbformat": 4
 },
 "nbformat": 4,
 "nbformat_minor": 2
}
