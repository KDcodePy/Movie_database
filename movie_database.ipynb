{
 "cells": [
  {
   "attachments": {},
   "cell_type": "markdown",
   "metadata": {},
   "source": [
    "# Movie Database with SQL \n",
    "Author: Kim Hazed Delfino\n"
   ]
  },
  {
   "attachments": {},
   "cell_type": "markdown",
   "metadata": {},
   "source": [
    "## Imports "
   ]
  },
  {
   "cell_type": "code",
   "execution_count": 1,
   "metadata": {},
   "outputs": [],
   "source": [
    "import pandas as pd\n",
    "import numpy as np"
   ]
  },
  {
   "attachments": {},
   "cell_type": "markdown",
   "metadata": {},
   "source": [
    "## Load Dataset"
   ]
  },
  {
   "cell_type": "code",
   "execution_count": 2,
   "metadata": {},
   "outputs": [],
   "source": [
    "# Load files\n",
    "basics_url = \"https://datasets.imdbws.com/title.basics.tsv.gz\"\n",
    "ratings_url = \"https://datasets.imdbws.com/title.ratings.tsv.gz\"\n",
    "akas_url = \"https://datasets.imdbws.com/title.akas.tsv.gz\"\n",
    "\n",
    "basics = pd.read_csv(basics_url, sep='\\t', low_memory=False)\n",
    "ratings = pd.read_csv(ratings_url, sep='\\t', low_memory=False)\n",
    "akas = pd.read_csv(akas_url, sep='\\t', low_memory=False)"
   ]
  },
  {
   "attachments": {},
   "cell_type": "markdown",
   "metadata": {},
   "source": [
    "### Preprossing - Title Basics"
   ]
  },
  {
   "cell_type": "code",
   "execution_count": 3,
   "metadata": {},
   "outputs": [],
   "source": [
    "# Drop missing values from runtimeMinutes and genre\n",
    "runtime_filter = basics['runtimeMinutes'] != '\\\\N'\n",
    "\n",
    "genre_filter = basics['genres'] != '\\\\N'\n",
    "\n"
   ]
  },
  {
   "cell_type": "code",
   "execution_count": 4,
   "metadata": {},
   "outputs": [],
   "source": [
    "# Create new filtered df \n",
    "basics_rtime_genre_filtered = basics[runtime_filter & genre_filter]"
   ]
  },
  {
   "cell_type": "code",
   "execution_count": 5,
   "metadata": {},
   "outputs": [],
   "source": [
    "# Filter titleType and startYear\n",
    "type_filter = basics_rtime_genre_filtered['titleType'] == 'movie'\n",
    "\n",
    "years_filter = basics_rtime_genre_filtered['startYear'] != '\\\\N'"
   ]
  },
  {
   "cell_type": "code",
   "execution_count": 6,
   "metadata": {},
   "outputs": [],
   "source": [
    "# Create filtered df \n",
    "basics_df = basics_rtime_genre_filtered[type_filter & years_filter]"
   ]
  },
  {
   "cell_type": "code",
   "execution_count": 7,
   "metadata": {},
   "outputs": [
    {
     "name": "stdout",
     "output_type": "stream",
     "text": [
      "<class 'pandas.core.frame.DataFrame'>\n",
      "Int64Index: 376707 entries, 8 to 9890178\n",
      "Data columns (total 9 columns):\n",
      " #   Column          Non-Null Count   Dtype \n",
      "---  ------          --------------   ----- \n",
      " 0   tconst          376707 non-null  object\n",
      " 1   titleType       376707 non-null  object\n",
      " 2   primaryTitle    376707 non-null  object\n",
      " 3   originalTitle   376707 non-null  object\n",
      " 4   isAdult         376707 non-null  object\n",
      " 5   startYear       376707 non-null  object\n",
      " 6   endYear         376707 non-null  object\n",
      " 7   runtimeMinutes  376707 non-null  object\n",
      " 8   genres          376707 non-null  object\n",
      "dtypes: object(9)\n",
      "memory usage: 28.7+ MB\n"
     ]
    }
   ],
   "source": [
    "basics_df.info()"
   ]
  },
  {
   "cell_type": "code",
   "execution_count": 8,
   "metadata": {},
   "outputs": [
    {
     "name": "stderr",
     "output_type": "stream",
     "text": [
      "C:\\Users\\kdelfino\\AppData\\Local\\Temp\\ipykernel_58184\\2533919934.py:2: SettingWithCopyWarning: \n",
      "A value is trying to be set on a copy of a slice from a DataFrame.\n",
      "Try using .loc[row_indexer,col_indexer] = value instead\n",
      "\n",
      "See the caveats in the documentation: https://pandas.pydata.org/pandas-docs/stable/user_guide/indexing.html#returning-a-view-versus-a-copy\n",
      "  basics_df['startYear'] = basics_df['startYear'].astype(int)\n"
     ]
    }
   ],
   "source": [
    "# Convert startYear value into int dtype\n",
    "basics_df['startYear'] = basics_df['startYear'].astype(int)"
   ]
  },
  {
   "cell_type": "code",
   "execution_count": 9,
   "metadata": {},
   "outputs": [
    {
     "name": "stdout",
     "output_type": "stream",
     "text": [
      "<class 'pandas.core.frame.DataFrame'>\n",
      "Int64Index: 376707 entries, 8 to 9890178\n",
      "Data columns (total 9 columns):\n",
      " #   Column          Non-Null Count   Dtype \n",
      "---  ------          --------------   ----- \n",
      " 0   tconst          376707 non-null  object\n",
      " 1   titleType       376707 non-null  object\n",
      " 2   primaryTitle    376707 non-null  object\n",
      " 3   originalTitle   376707 non-null  object\n",
      " 4   isAdult         376707 non-null  object\n",
      " 5   startYear       376707 non-null  int32 \n",
      " 6   endYear         376707 non-null  object\n",
      " 7   runtimeMinutes  376707 non-null  object\n",
      " 8   genres          376707 non-null  object\n",
      "dtypes: int32(1), object(8)\n",
      "memory usage: 27.3+ MB\n"
     ]
    }
   ],
   "source": [
    "basics_df.info()"
   ]
  },
  {
   "cell_type": "code",
   "execution_count": 10,
   "metadata": {},
   "outputs": [
    {
     "data": {
      "text/plain": [
       "2029"
      ]
     },
     "execution_count": 10,
     "metadata": {},
     "output_type": "execute_result"
    }
   ],
   "source": [
    "max(basics_df['startYear'])"
   ]
  },
  {
   "cell_type": "code",
   "execution_count": 11,
   "metadata": {},
   "outputs": [],
   "source": [
    "# Filter movies with only startYear 2000 to 2022\n",
    "year_filter_2000 = basics_df['startYear'] >= 2000\n",
    "year_filter_2021 = basics_df['startYear'] < 2022\n",
    "basics_20_to_21 = basics_df[year_filter_2000 & year_filter_2021]"
   ]
  },
  {
   "cell_type": "code",
   "execution_count": 12,
   "metadata": {},
   "outputs": [
    {
     "name": "stdout",
     "output_type": "stream",
     "text": [
      "<class 'pandas.core.frame.DataFrame'>\n",
      "Int64Index: 210703 entries, 13082 to 9890178\n",
      "Data columns (total 9 columns):\n",
      " #   Column          Non-Null Count   Dtype \n",
      "---  ------          --------------   ----- \n",
      " 0   tconst          210703 non-null  object\n",
      " 1   titleType       210703 non-null  object\n",
      " 2   primaryTitle    210703 non-null  object\n",
      " 3   originalTitle   210703 non-null  object\n",
      " 4   isAdult         210703 non-null  object\n",
      " 5   startYear       210703 non-null  int32 \n",
      " 6   endYear         210703 non-null  object\n",
      " 7   runtimeMinutes  210703 non-null  object\n",
      " 8   genres          210703 non-null  object\n",
      "dtypes: int32(1), object(8)\n",
      "memory usage: 15.3+ MB\n"
     ]
    }
   ],
   "source": [
    "basics_20_to_21.info()"
   ]
  },
  {
   "cell_type": "code",
   "execution_count": 13,
   "metadata": {},
   "outputs": [
    {
     "name": "stderr",
     "output_type": "stream",
     "text": [
      "C:\\Users\\kdelfino\\AppData\\Local\\Temp\\ipykernel_58184\\3930796260.py:2: SettingWithCopyWarning: \n",
      "A value is trying to be set on a copy of a slice from a DataFrame\n",
      "\n",
      "See the caveats in the documentation: https://pandas.pydata.org/pandas-docs/stable/user_guide/indexing.html#returning-a-view-versus-a-copy\n",
      "  basics_20_to_21.replace({'\\\\N':np.nan},inplace=True)\n"
     ]
    }
   ],
   "source": [
    "# Replace '\\N' values with np.nan\n",
    "basics_20_to_21.replace({'\\\\N':np.nan},inplace=True)\n"
   ]
  },
  {
   "cell_type": "code",
   "execution_count": 14,
   "metadata": {},
   "outputs": [
    {
     "name": "stdout",
     "output_type": "stream",
     "text": [
      "<class 'pandas.core.frame.DataFrame'>\n",
      "Int64Index: 210703 entries, 13082 to 9890178\n",
      "Data columns (total 9 columns):\n",
      " #   Column          Non-Null Count   Dtype  \n",
      "---  ------          --------------   -----  \n",
      " 0   tconst          210703 non-null  object \n",
      " 1   titleType       210703 non-null  object \n",
      " 2   primaryTitle    210703 non-null  object \n",
      " 3   originalTitle   210703 non-null  object \n",
      " 4   isAdult         210703 non-null  object \n",
      " 5   startYear       210703 non-null  int32  \n",
      " 6   endYear         0 non-null       float64\n",
      " 7   runtimeMinutes  210703 non-null  object \n",
      " 8   genres          210703 non-null  object \n",
      "dtypes: float64(1), int32(1), object(7)\n",
      "memory usage: 15.3+ MB\n"
     ]
    }
   ],
   "source": [
    "# Check df\n",
    "basics_20_to_21.info()"
   ]
  },
  {
   "cell_type": "code",
   "execution_count": 15,
   "metadata": {},
   "outputs": [
    {
     "data": {
      "text/html": [
       "<div>\n",
       "<style scoped>\n",
       "    .dataframe tbody tr th:only-of-type {\n",
       "        vertical-align: middle;\n",
       "    }\n",
       "\n",
       "    .dataframe tbody tr th {\n",
       "        vertical-align: top;\n",
       "    }\n",
       "\n",
       "    .dataframe thead th {\n",
       "        text-align: right;\n",
       "    }\n",
       "</style>\n",
       "<table border=\"1\" class=\"dataframe\">\n",
       "  <thead>\n",
       "    <tr style=\"text-align: right;\">\n",
       "      <th></th>\n",
       "      <th>tconst</th>\n",
       "      <th>titleType</th>\n",
       "      <th>primaryTitle</th>\n",
       "      <th>originalTitle</th>\n",
       "      <th>isAdult</th>\n",
       "      <th>startYear</th>\n",
       "      <th>endYear</th>\n",
       "      <th>runtimeMinutes</th>\n",
       "      <th>genres</th>\n",
       "    </tr>\n",
       "  </thead>\n",
       "  <tbody>\n",
       "    <tr>\n",
       "      <th>13082</th>\n",
       "      <td>tt0013274</td>\n",
       "      <td>movie</td>\n",
       "      <td>Istoriya grazhdanskoy voyny</td>\n",
       "      <td>Istoriya grazhdanskoy voyny</td>\n",
       "      <td>0</td>\n",
       "      <td>2021</td>\n",
       "      <td>NaN</td>\n",
       "      <td>94</td>\n",
       "      <td>Documentary</td>\n",
       "    </tr>\n",
       "    <tr>\n",
       "      <th>34803</th>\n",
       "      <td>tt0035423</td>\n",
       "      <td>movie</td>\n",
       "      <td>Kate &amp; Leopold</td>\n",
       "      <td>Kate &amp; Leopold</td>\n",
       "      <td>0</td>\n",
       "      <td>2001</td>\n",
       "      <td>NaN</td>\n",
       "      <td>118</td>\n",
       "      <td>Comedy,Fantasy,Romance</td>\n",
       "    </tr>\n",
       "    <tr>\n",
       "      <th>42384</th>\n",
       "      <td>tt0043139</td>\n",
       "      <td>movie</td>\n",
       "      <td>Life of a Beijing Policeman</td>\n",
       "      <td>Wo zhe yi bei zi</td>\n",
       "      <td>0</td>\n",
       "      <td>2013</td>\n",
       "      <td>NaN</td>\n",
       "      <td>120</td>\n",
       "      <td>Drama,History</td>\n",
       "    </tr>\n",
       "    <tr>\n",
       "      <th>61115</th>\n",
       "      <td>tt0062336</td>\n",
       "      <td>movie</td>\n",
       "      <td>The Tango of the Widower and Its Distorting Mi...</td>\n",
       "      <td>El tango del viudo y su espejo deformante</td>\n",
       "      <td>0</td>\n",
       "      <td>2020</td>\n",
       "      <td>NaN</td>\n",
       "      <td>70</td>\n",
       "      <td>Drama</td>\n",
       "    </tr>\n",
       "    <tr>\n",
       "      <th>67668</th>\n",
       "      <td>tt0069049</td>\n",
       "      <td>movie</td>\n",
       "      <td>The Other Side of the Wind</td>\n",
       "      <td>The Other Side of the Wind</td>\n",
       "      <td>0</td>\n",
       "      <td>2018</td>\n",
       "      <td>NaN</td>\n",
       "      <td>122</td>\n",
       "      <td>Drama</td>\n",
       "    </tr>\n",
       "  </tbody>\n",
       "</table>\n",
       "</div>"
      ],
      "text/plain": [
       "          tconst titleType                                       primaryTitle  \\\n",
       "13082  tt0013274     movie                        Istoriya grazhdanskoy voyny   \n",
       "34803  tt0035423     movie                                     Kate & Leopold   \n",
       "42384  tt0043139     movie                        Life of a Beijing Policeman   \n",
       "61115  tt0062336     movie  The Tango of the Widower and Its Distorting Mi...   \n",
       "67668  tt0069049     movie                         The Other Side of the Wind   \n",
       "\n",
       "                                   originalTitle isAdult  startYear  endYear  \\\n",
       "13082                Istoriya grazhdanskoy voyny       0       2021      NaN   \n",
       "34803                             Kate & Leopold       0       2001      NaN   \n",
       "42384                           Wo zhe yi bei zi       0       2013      NaN   \n",
       "61115  El tango del viudo y su espejo deformante       0       2020      NaN   \n",
       "67668                 The Other Side of the Wind       0       2018      NaN   \n",
       "\n",
       "      runtimeMinutes                  genres  \n",
       "13082             94             Documentary  \n",
       "34803            118  Comedy,Fantasy,Romance  \n",
       "42384            120           Drama,History  \n",
       "61115             70                   Drama  \n",
       "67668            122                   Drama  "
      ]
     },
     "execution_count": 15,
     "metadata": {},
     "output_type": "execute_result"
    }
   ],
   "source": [
    "basics_20_to_21.head()"
   ]
  },
  {
   "cell_type": "code",
   "execution_count": 16,
   "metadata": {},
   "outputs": [],
   "source": [
    "# Filter out Documentary in our df\n",
    "is_documentary = basics_20_to_21['genres'].str.contains('documentary',case=False)\n",
    "basics_20_21_filtered = basics_20_to_21[~is_documentary]\n",
    "\n"
   ]
  },
  {
   "cell_type": "code",
   "execution_count": 17,
   "metadata": {},
   "outputs": [
    {
     "name": "stdout",
     "output_type": "stream",
     "text": [
      "<class 'pandas.core.frame.DataFrame'>\n",
      "Int64Index: 138578 entries, 34803 to 9890078\n",
      "Data columns (total 9 columns):\n",
      " #   Column          Non-Null Count   Dtype  \n",
      "---  ------          --------------   -----  \n",
      " 0   tconst          138578 non-null  object \n",
      " 1   titleType       138578 non-null  object \n",
      " 2   primaryTitle    138578 non-null  object \n",
      " 3   originalTitle   138578 non-null  object \n",
      " 4   isAdult         138578 non-null  object \n",
      " 5   startYear       138578 non-null  int32  \n",
      " 6   endYear         0 non-null       float64\n",
      " 7   runtimeMinutes  138578 non-null  object \n",
      " 8   genres          138578 non-null  object \n",
      "dtypes: float64(1), int32(1), object(7)\n",
      "memory usage: 10.0+ MB\n"
     ]
    }
   ],
   "source": [
    "basics_20_21_filtered.info()"
   ]
  },
  {
   "attachments": {},
   "cell_type": "markdown",
   "metadata": {},
   "source": [
    "### Preprocessing - AKAs"
   ]
  },
  {
   "cell_type": "code",
   "execution_count": 18,
   "metadata": {},
   "outputs": [
    {
     "name": "stdout",
     "output_type": "stream",
     "text": [
      "<class 'pandas.core.frame.DataFrame'>\n",
      "RangeIndex: 36053786 entries, 0 to 36053785\n",
      "Data columns (total 8 columns):\n",
      " #   Column           Dtype \n",
      "---  ------           ----- \n",
      " 0   titleId          object\n",
      " 1   ordering         int64 \n",
      " 2   title            object\n",
      " 3   region           object\n",
      " 4   language         object\n",
      " 5   types            object\n",
      " 6   attributes       object\n",
      " 7   isOriginalTitle  object\n",
      "dtypes: int64(1), object(7)\n",
      "memory usage: 2.1+ GB\n"
     ]
    }
   ],
   "source": [
    "# Check df \n",
    "akas.info()"
   ]
  },
  {
   "cell_type": "code",
   "execution_count": 19,
   "metadata": {},
   "outputs": [],
   "source": [
    "# Keep only US region\n",
    "us_akas = akas[akas['region']== 'US']"
   ]
  },
  {
   "cell_type": "code",
   "execution_count": 20,
   "metadata": {},
   "outputs": [
    {
     "name": "stderr",
     "output_type": "stream",
     "text": [
      "C:\\Users\\kdelfino\\AppData\\Local\\Temp\\ipykernel_58184\\4291115757.py:2: SettingWithCopyWarning: \n",
      "A value is trying to be set on a copy of a slice from a DataFrame\n",
      "\n",
      "See the caveats in the documentation: https://pandas.pydata.org/pandas-docs/stable/user_guide/indexing.html#returning-a-view-versus-a-copy\n",
      "  us_akas.replace({'\\\\N':np.nan},inplace=True)\n"
     ]
    }
   ],
   "source": [
    "# Replace '\\\\N' with np.nan\n",
    "us_akas.replace({'\\\\N':np.nan},inplace=True)"
   ]
  },
  {
   "cell_type": "code",
   "execution_count": 21,
   "metadata": {},
   "outputs": [
    {
     "data": {
      "text/html": [
       "<div>\n",
       "<style scoped>\n",
       "    .dataframe tbody tr th:only-of-type {\n",
       "        vertical-align: middle;\n",
       "    }\n",
       "\n",
       "    .dataframe tbody tr th {\n",
       "        vertical-align: top;\n",
       "    }\n",
       "\n",
       "    .dataframe thead th {\n",
       "        text-align: right;\n",
       "    }\n",
       "</style>\n",
       "<table border=\"1\" class=\"dataframe\">\n",
       "  <thead>\n",
       "    <tr style=\"text-align: right;\">\n",
       "      <th></th>\n",
       "      <th>titleId</th>\n",
       "      <th>ordering</th>\n",
       "      <th>title</th>\n",
       "      <th>region</th>\n",
       "      <th>language</th>\n",
       "      <th>types</th>\n",
       "      <th>attributes</th>\n",
       "      <th>isOriginalTitle</th>\n",
       "    </tr>\n",
       "  </thead>\n",
       "  <tbody>\n",
       "    <tr>\n",
       "      <th>23116028</th>\n",
       "      <td>tt2496622</td>\n",
       "      <td>1</td>\n",
       "      <td>Hibernation</td>\n",
       "      <td>US</td>\n",
       "      <td>NaN</td>\n",
       "      <td>NaN</td>\n",
       "      <td>NaN</td>\n",
       "      <td>0</td>\n",
       "    </tr>\n",
       "    <tr>\n",
       "      <th>17317756</th>\n",
       "      <td>tt17077914</td>\n",
       "      <td>1</td>\n",
       "      <td>I'm Worth It</td>\n",
       "      <td>US</td>\n",
       "      <td>NaN</td>\n",
       "      <td>NaN</td>\n",
       "      <td>NaN</td>\n",
       "      <td>0</td>\n",
       "    </tr>\n",
       "    <tr>\n",
       "      <th>2299219</th>\n",
       "      <td>tt0564267</td>\n",
       "      <td>1</td>\n",
       "      <td>Now You See It, Now You Don't</td>\n",
       "      <td>US</td>\n",
       "      <td>NaN</td>\n",
       "      <td>NaN</td>\n",
       "      <td>NaN</td>\n",
       "      <td>0</td>\n",
       "    </tr>\n",
       "    <tr>\n",
       "      <th>25542465</th>\n",
       "      <td>tt2977642</td>\n",
       "      <td>1</td>\n",
       "      <td>Big House Blues</td>\n",
       "      <td>US</td>\n",
       "      <td>NaN</td>\n",
       "      <td>NaN</td>\n",
       "      <td>NaN</td>\n",
       "      <td>0</td>\n",
       "    </tr>\n",
       "    <tr>\n",
       "      <th>17807943</th>\n",
       "      <td>tt17940400</td>\n",
       "      <td>2</td>\n",
       "      <td>Fifty Times Rock</td>\n",
       "      <td>US</td>\n",
       "      <td>NaN</td>\n",
       "      <td>imdbDisplay</td>\n",
       "      <td>NaN</td>\n",
       "      <td>0</td>\n",
       "    </tr>\n",
       "  </tbody>\n",
       "</table>\n",
       "</div>"
      ],
      "text/plain": [
       "             titleId  ordering                          title region language  \\\n",
       "23116028   tt2496622         1                    Hibernation     US      NaN   \n",
       "17317756  tt17077914         1                   I'm Worth It     US      NaN   \n",
       "2299219    tt0564267         1  Now You See It, Now You Don't     US      NaN   \n",
       "25542465   tt2977642         1                Big House Blues     US      NaN   \n",
       "17807943  tt17940400         2               Fifty Times Rock     US      NaN   \n",
       "\n",
       "                types attributes isOriginalTitle  \n",
       "23116028          NaN        NaN               0  \n",
       "17317756          NaN        NaN               0  \n",
       "2299219           NaN        NaN               0  \n",
       "25542465          NaN        NaN               0  \n",
       "17807943  imdbDisplay        NaN               0  "
      ]
     },
     "execution_count": 21,
     "metadata": {},
     "output_type": "execute_result"
    }
   ],
   "source": [
    "# Double check\n",
    "us_akas.sample(5)"
   ]
  },
  {
   "cell_type": "code",
   "execution_count": 22,
   "metadata": {},
   "outputs": [],
   "source": [
    "# Filter only US using AKAs dataset \n",
    "us_filter = basics_20_21_filtered['tconst'].isin(us_akas['titleId'])\n"
   ]
  },
  {
   "cell_type": "code",
   "execution_count": 23,
   "metadata": {},
   "outputs": [],
   "source": [
    "# Create filtered df\n",
    "us_basics_df = basics_20_21_filtered[us_filter]"
   ]
  },
  {
   "cell_type": "code",
   "execution_count": 24,
   "metadata": {},
   "outputs": [
    {
     "name": "stdout",
     "output_type": "stream",
     "text": [
      "<class 'pandas.core.frame.DataFrame'>\n",
      "Int64Index: 81782 entries, 34803 to 9889994\n",
      "Data columns (total 9 columns):\n",
      " #   Column          Non-Null Count  Dtype  \n",
      "---  ------          --------------  -----  \n",
      " 0   tconst          81782 non-null  object \n",
      " 1   titleType       81782 non-null  object \n",
      " 2   primaryTitle    81782 non-null  object \n",
      " 3   originalTitle   81782 non-null  object \n",
      " 4   isAdult         81782 non-null  object \n",
      " 5   startYear       81782 non-null  int32  \n",
      " 6   endYear         0 non-null      float64\n",
      " 7   runtimeMinutes  81782 non-null  object \n",
      " 8   genres          81782 non-null  object \n",
      "dtypes: float64(1), int32(1), object(7)\n",
      "memory usage: 5.9+ MB\n"
     ]
    }
   ],
   "source": [
    "# Doublec check df \n",
    "us_basics_df.info()"
   ]
  },
  {
   "cell_type": "code",
   "execution_count": 25,
   "metadata": {},
   "outputs": [
    {
     "data": {
      "text/html": [
       "<div>\n",
       "<style scoped>\n",
       "    .dataframe tbody tr th:only-of-type {\n",
       "        vertical-align: middle;\n",
       "    }\n",
       "\n",
       "    .dataframe tbody tr th {\n",
       "        vertical-align: top;\n",
       "    }\n",
       "\n",
       "    .dataframe thead th {\n",
       "        text-align: right;\n",
       "    }\n",
       "</style>\n",
       "<table border=\"1\" class=\"dataframe\">\n",
       "  <thead>\n",
       "    <tr style=\"text-align: right;\">\n",
       "      <th></th>\n",
       "      <th>tconst</th>\n",
       "      <th>titleType</th>\n",
       "      <th>primaryTitle</th>\n",
       "      <th>originalTitle</th>\n",
       "      <th>isAdult</th>\n",
       "      <th>startYear</th>\n",
       "      <th>endYear</th>\n",
       "      <th>runtimeMinutes</th>\n",
       "      <th>genres</th>\n",
       "    </tr>\n",
       "  </thead>\n",
       "  <tbody>\n",
       "    <tr>\n",
       "      <th>6000369</th>\n",
       "      <td>tt2376354</td>\n",
       "      <td>movie</td>\n",
       "      <td>Del Shores: Sordid Confessions</td>\n",
       "      <td>Del Shores: Sordid Confessions</td>\n",
       "      <td>0</td>\n",
       "      <td>2012</td>\n",
       "      <td>NaN</td>\n",
       "      <td>90</td>\n",
       "      <td>Comedy</td>\n",
       "    </tr>\n",
       "    <tr>\n",
       "      <th>6867208</th>\n",
       "      <td>tt3189862</td>\n",
       "      <td>movie</td>\n",
       "      <td>Mission NinetyTwo</td>\n",
       "      <td>NinetyTwo</td>\n",
       "      <td>0</td>\n",
       "      <td>2015</td>\n",
       "      <td>NaN</td>\n",
       "      <td>88</td>\n",
       "      <td>Action,Adventure,Thriller</td>\n",
       "    </tr>\n",
       "    <tr>\n",
       "      <th>192364</th>\n",
       "      <td>tt0200171</td>\n",
       "      <td>movie</td>\n",
       "      <td>Stanley's Gig</td>\n",
       "      <td>Stanley's Gig</td>\n",
       "      <td>0</td>\n",
       "      <td>2000</td>\n",
       "      <td>NaN</td>\n",
       "      <td>93</td>\n",
       "      <td>Drama,Music</td>\n",
       "    </tr>\n",
       "    <tr>\n",
       "      <th>5385152</th>\n",
       "      <td>tt2111274</td>\n",
       "      <td>movie</td>\n",
       "      <td>Bleed 4 Me</td>\n",
       "      <td>Bleed 4 Me</td>\n",
       "      <td>0</td>\n",
       "      <td>2011</td>\n",
       "      <td>NaN</td>\n",
       "      <td>89</td>\n",
       "      <td>Horror</td>\n",
       "    </tr>\n",
       "    <tr>\n",
       "      <th>8204518</th>\n",
       "      <td>tt6223806</td>\n",
       "      <td>movie</td>\n",
       "      <td>Under the Tree</td>\n",
       "      <td>Undir trénu</td>\n",
       "      <td>0</td>\n",
       "      <td>2017</td>\n",
       "      <td>NaN</td>\n",
       "      <td>89</td>\n",
       "      <td>Comedy,Drama,Thriller</td>\n",
       "    </tr>\n",
       "  </tbody>\n",
       "</table>\n",
       "</div>"
      ],
      "text/plain": [
       "            tconst titleType                    primaryTitle  \\\n",
       "6000369  tt2376354     movie  Del Shores: Sordid Confessions   \n",
       "6867208  tt3189862     movie               Mission NinetyTwo   \n",
       "192364   tt0200171     movie                   Stanley's Gig   \n",
       "5385152  tt2111274     movie                      Bleed 4 Me   \n",
       "8204518  tt6223806     movie                  Under the Tree   \n",
       "\n",
       "                          originalTitle isAdult  startYear  endYear  \\\n",
       "6000369  Del Shores: Sordid Confessions       0       2012      NaN   \n",
       "6867208                       NinetyTwo       0       2015      NaN   \n",
       "192364                    Stanley's Gig       0       2000      NaN   \n",
       "5385152                      Bleed 4 Me       0       2011      NaN   \n",
       "8204518                     Undir trénu       0       2017      NaN   \n",
       "\n",
       "        runtimeMinutes                     genres  \n",
       "6000369             90                     Comedy  \n",
       "6867208             88  Action,Adventure,Thriller  \n",
       "192364              93                Drama,Music  \n",
       "5385152             89                     Horror  \n",
       "8204518             89      Comedy,Drama,Thriller  "
      ]
     },
     "execution_count": 25,
     "metadata": {},
     "output_type": "execute_result"
    }
   ],
   "source": [
    "us_basics_df.sample(5)"
   ]
  },
  {
   "attachments": {},
   "cell_type": "markdown",
   "metadata": {},
   "source": [
    "### Preprocessing - Ratings"
   ]
  },
  {
   "cell_type": "code",
   "execution_count": 26,
   "metadata": {},
   "outputs": [
    {
     "name": "stdout",
     "output_type": "stream",
     "text": [
      "<class 'pandas.core.frame.DataFrame'>\n",
      "RangeIndex: 1316828 entries, 0 to 1316827\n",
      "Data columns (total 3 columns):\n",
      " #   Column         Non-Null Count    Dtype  \n",
      "---  ------         --------------    -----  \n",
      " 0   tconst         1316828 non-null  object \n",
      " 1   averageRating  1316828 non-null  float64\n",
      " 2   numVotes       1316828 non-null  int64  \n",
      "dtypes: float64(1), int64(1), object(1)\n",
      "memory usage: 30.1+ MB\n"
     ]
    }
   ],
   "source": [
    "# Check df\n",
    "ratings.info()"
   ]
  },
  {
   "cell_type": "code",
   "execution_count": 27,
   "metadata": {},
   "outputs": [
    {
     "data": {
      "text/html": [
       "<div>\n",
       "<style scoped>\n",
       "    .dataframe tbody tr th:only-of-type {\n",
       "        vertical-align: middle;\n",
       "    }\n",
       "\n",
       "    .dataframe tbody tr th {\n",
       "        vertical-align: top;\n",
       "    }\n",
       "\n",
       "    .dataframe thead th {\n",
       "        text-align: right;\n",
       "    }\n",
       "</style>\n",
       "<table border=\"1\" class=\"dataframe\">\n",
       "  <thead>\n",
       "    <tr style=\"text-align: right;\">\n",
       "      <th></th>\n",
       "      <th>tconst</th>\n",
       "      <th>averageRating</th>\n",
       "      <th>numVotes</th>\n",
       "    </tr>\n",
       "  </thead>\n",
       "  <tbody>\n",
       "    <tr>\n",
       "      <th>935732</th>\n",
       "      <td>tt26919883</td>\n",
       "      <td>5.0</td>\n",
       "      <td>6</td>\n",
       "    </tr>\n",
       "    <tr>\n",
       "      <th>300985</th>\n",
       "      <td>tt0580694</td>\n",
       "      <td>9.2</td>\n",
       "      <td>14</td>\n",
       "    </tr>\n",
       "    <tr>\n",
       "      <th>1268726</th>\n",
       "      <td>tt8578528</td>\n",
       "      <td>8.3</td>\n",
       "      <td>7</td>\n",
       "    </tr>\n",
       "    <tr>\n",
       "      <th>413613</th>\n",
       "      <td>tt0867040</td>\n",
       "      <td>8.2</td>\n",
       "      <td>80</td>\n",
       "    </tr>\n",
       "    <tr>\n",
       "      <th>952310</th>\n",
       "      <td>tt2874436</td>\n",
       "      <td>6.4</td>\n",
       "      <td>7</td>\n",
       "    </tr>\n",
       "  </tbody>\n",
       "</table>\n",
       "</div>"
      ],
      "text/plain": [
       "             tconst  averageRating  numVotes\n",
       "935732   tt26919883            5.0         6\n",
       "300985    tt0580694            9.2        14\n",
       "1268726   tt8578528            8.3         7\n",
       "413613    tt0867040            8.2        80\n",
       "952310    tt2874436            6.4         7"
      ]
     },
     "execution_count": 27,
     "metadata": {},
     "output_type": "execute_result"
    }
   ],
   "source": [
    "ratings.sample(5)"
   ]
  },
  {
   "cell_type": "code",
   "execution_count": 28,
   "metadata": {},
   "outputs": [],
   "source": [
    "# Filter only US region\n",
    "us_rating_filter =  ratings['tconst'].isin(us_akas['titleId'])"
   ]
  },
  {
   "cell_type": "code",
   "execution_count": 29,
   "metadata": {},
   "outputs": [
    {
     "name": "stderr",
     "output_type": "stream",
     "text": [
      "C:\\Users\\kdelfino\\AppData\\Local\\Temp\\ipykernel_58184\\2744651486.py:5: SettingWithCopyWarning: \n",
      "A value is trying to be set on a copy of a slice from a DataFrame\n",
      "\n",
      "See the caveats in the documentation: https://pandas.pydata.org/pandas-docs/stable/user_guide/indexing.html#returning-a-view-versus-a-copy\n",
      "  us_ratings_df.replace({'\\\\N':np.nan},inplace=True)\n"
     ]
    }
   ],
   "source": [
    "# Create filtered df \n",
    "us_ratings_df = ratings[us_rating_filter]\n",
    "\n",
    "# Replace '\\\\N' with np.nan\n",
    "us_ratings_df.replace({'\\\\N':np.nan},inplace=True)"
   ]
  },
  {
   "cell_type": "code",
   "execution_count": 30,
   "metadata": {},
   "outputs": [
    {
     "name": "stdout",
     "output_type": "stream",
     "text": [
      "<class 'pandas.core.frame.DataFrame'>\n",
      "Int64Index: 500349 entries, 0 to 1316803\n",
      "Data columns (total 3 columns):\n",
      " #   Column         Non-Null Count   Dtype  \n",
      "---  ------         --------------   -----  \n",
      " 0   tconst         500349 non-null  object \n",
      " 1   averageRating  500349 non-null  float64\n",
      " 2   numVotes       500349 non-null  int64  \n",
      "dtypes: float64(1), int64(1), object(1)\n",
      "memory usage: 15.3+ MB\n"
     ]
    }
   ],
   "source": [
    "# Double check df\n",
    "us_ratings_df.info()"
   ]
  },
  {
   "cell_type": "code",
   "execution_count": 31,
   "metadata": {},
   "outputs": [
    {
     "data": {
      "text/html": [
       "<div>\n",
       "<style scoped>\n",
       "    .dataframe tbody tr th:only-of-type {\n",
       "        vertical-align: middle;\n",
       "    }\n",
       "\n",
       "    .dataframe tbody tr th {\n",
       "        vertical-align: top;\n",
       "    }\n",
       "\n",
       "    .dataframe thead th {\n",
       "        text-align: right;\n",
       "    }\n",
       "</style>\n",
       "<table border=\"1\" class=\"dataframe\">\n",
       "  <thead>\n",
       "    <tr style=\"text-align: right;\">\n",
       "      <th></th>\n",
       "      <th>tconst</th>\n",
       "      <th>averageRating</th>\n",
       "      <th>numVotes</th>\n",
       "    </tr>\n",
       "  </thead>\n",
       "  <tbody>\n",
       "    <tr>\n",
       "      <th>76591</th>\n",
       "      <td>tt0103933</td>\n",
       "      <td>4.5</td>\n",
       "      <td>209</td>\n",
       "    </tr>\n",
       "    <tr>\n",
       "      <th>274419</th>\n",
       "      <td>tt0522865</td>\n",
       "      <td>6.7</td>\n",
       "      <td>164</td>\n",
       "    </tr>\n",
       "    <tr>\n",
       "      <th>359869</th>\n",
       "      <td>tt0712777</td>\n",
       "      <td>6.6</td>\n",
       "      <td>26</td>\n",
       "    </tr>\n",
       "    <tr>\n",
       "      <th>844908</th>\n",
       "      <td>tt2105660</td>\n",
       "      <td>7.7</td>\n",
       "      <td>2186</td>\n",
       "    </tr>\n",
       "    <tr>\n",
       "      <th>15367</th>\n",
       "      <td>tt0032392</td>\n",
       "      <td>6.0</td>\n",
       "      <td>33</td>\n",
       "    </tr>\n",
       "  </tbody>\n",
       "</table>\n",
       "</div>"
      ],
      "text/plain": [
       "           tconst  averageRating  numVotes\n",
       "76591   tt0103933            4.5       209\n",
       "274419  tt0522865            6.7       164\n",
       "359869  tt0712777            6.6        26\n",
       "844908  tt2105660            7.7      2186\n",
       "15367   tt0032392            6.0        33"
      ]
     },
     "execution_count": 31,
     "metadata": {},
     "output_type": "execute_result"
    }
   ],
   "source": [
    "us_ratings_df.sample(5)"
   ]
  },
  {
   "cell_type": "code",
   "execution_count": 32,
   "metadata": {},
   "outputs": [
    {
     "data": {
      "text/plain": [
       "[]"
      ]
     },
     "execution_count": 32,
     "metadata": {},
     "output_type": "execute_result"
    }
   ],
   "source": [
    "# example making new folder with os\n",
    "import os\n",
    "os.makedirs('Data/',exist_ok=True) \n",
    "# Confirm folder created\n",
    "os.listdir(\"Data/\")\n"
   ]
  },
  {
   "cell_type": "code",
   "execution_count": 33,
   "metadata": {},
   "outputs": [],
   "source": [
    "## Save dataframe to file.\n",
    "us_basics_df.to_csv(\"Data/title_basics.csv.gz\",compression='gzip',index=False)\n",
    "\n",
    "us_ratings_df.to_csv(\"Data/title_ratings.csv.gz\",compression='gzip',index=False)\n",
    "\n",
    "us_akas.to_csv(\"Data/title_akas.csv.gz\",compression='gzip',index=False)\n",
    "\n"
   ]
  }
 ],
 "metadata": {
  "kernelspec": {
   "display_name": "dojo-env",
   "language": "python",
   "name": "python3"
  },
  "language_info": {
   "codemirror_mode": {
    "name": "ipython",
    "version": 3
   },
   "file_extension": ".py",
   "mimetype": "text/x-python",
   "name": "python",
   "nbconvert_exporter": "python",
   "pygments_lexer": "ipython3",
   "version": "3.9.15"
  },
  "orig_nbformat": 4
 },
 "nbformat": 4,
 "nbformat_minor": 2
}
