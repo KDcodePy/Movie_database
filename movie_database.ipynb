{
 "cells": [
  {
   "attachments": {},
   "cell_type": "markdown",
   "metadata": {},
   "source": [
    "# Movie Database with SQL \n",
    "Author: Kim Hazed Delfino\n"
   ]
  },
  {
   "attachments": {},
   "cell_type": "markdown",
   "metadata": {},
   "source": [
    "## Imports "
   ]
  },
  {
   "cell_type": "code",
   "execution_count": 312,
   "metadata": {},
   "outputs": [],
   "source": [
    "import pandas as pd\n",
    "import numpy as np"
   ]
  },
  {
   "attachments": {},
   "cell_type": "markdown",
   "metadata": {},
   "source": [
    "## Load Dataset"
   ]
  },
  {
   "cell_type": "code",
   "execution_count": 313,
   "metadata": {},
   "outputs": [],
   "source": [
    "# Load files\n",
    "basics_url = \"https://datasets.imdbws.com/title.basics.tsv.gz\"\n",
    "ratings_url = \"https://datasets.imdbws.com/title.ratings.tsv.gz\"\n",
    "akas_url = \"https://datasets.imdbws.com/title.akas.tsv.gz\"\n",
    "\n",
    "basics = pd.read_csv(basics_url, sep='\\t', low_memory=False)\n",
    "ratings = pd.read_csv(ratings_url, sep='\\t', low_memory=False)\n",
    "akas = pd.read_csv(akas_url, sep='\\t', low_memory=False)"
   ]
  },
  {
   "attachments": {},
   "cell_type": "markdown",
   "metadata": {},
   "source": [
    "### Preprossing - Title Basics"
   ]
  },
  {
   "cell_type": "code",
   "execution_count": 314,
   "metadata": {},
   "outputs": [],
   "source": [
    "# Drop missing values from runtimeMinutes and genre\n",
    "runtime_filter = basics['runtimeMinutes'] != '\\\\N'\n",
    "\n",
    "genre_filter = basics['genres'] != '\\\\N'\n",
    "\n"
   ]
  },
  {
   "cell_type": "code",
   "execution_count": 315,
   "metadata": {},
   "outputs": [],
   "source": [
    "# Create new filtered df \n",
    "movie_rtime_genre_filtered = basics[runtime_filter & genre_filter]"
   ]
  },
  {
   "cell_type": "code",
   "execution_count": 316,
   "metadata": {},
   "outputs": [],
   "source": [
    "# Filter titleType and startYear\n",
    "type_filter = movie_rtime_genre_filtered['titleType'] == 'movie'\n",
    "\n",
    "years_filter = movie_rtime_genre_filtered['startYear'] != '\\\\N'"
   ]
  },
  {
   "cell_type": "code",
   "execution_count": 317,
   "metadata": {},
   "outputs": [],
   "source": [
    "# Create filtered df \n",
    "movies_df = movie_rtime_genre_filtered[type_filter & years_filter]"
   ]
  },
  {
   "cell_type": "code",
   "execution_count": 318,
   "metadata": {},
   "outputs": [
    {
     "name": "stdout",
     "output_type": "stream",
     "text": [
      "<class 'pandas.core.frame.DataFrame'>\n",
      "Int64Index: 376423 entries, 8 to 9875688\n",
      "Data columns (total 9 columns):\n",
      " #   Column          Non-Null Count   Dtype \n",
      "---  ------          --------------   ----- \n",
      " 0   tconst          376423 non-null  object\n",
      " 1   titleType       376423 non-null  object\n",
      " 2   primaryTitle    376423 non-null  object\n",
      " 3   originalTitle   376423 non-null  object\n",
      " 4   isAdult         376423 non-null  object\n",
      " 5   startYear       376423 non-null  object\n",
      " 6   endYear         376423 non-null  object\n",
      " 7   runtimeMinutes  376423 non-null  object\n",
      " 8   genres          376423 non-null  object\n",
      "dtypes: object(9)\n",
      "memory usage: 28.7+ MB\n"
     ]
    }
   ],
   "source": [
    "movies_df.info()"
   ]
  },
  {
   "cell_type": "code",
   "execution_count": 319,
   "metadata": {},
   "outputs": [
    {
     "name": "stderr",
     "output_type": "stream",
     "text": [
      "C:\\Users\\kdelfino\\AppData\\Local\\Temp\\ipykernel_21820\\3245295653.py:2: SettingWithCopyWarning: \n",
      "A value is trying to be set on a copy of a slice from a DataFrame.\n",
      "Try using .loc[row_indexer,col_indexer] = value instead\n",
      "\n",
      "See the caveats in the documentation: https://pandas.pydata.org/pandas-docs/stable/user_guide/indexing.html#returning-a-view-versus-a-copy\n",
      "  movies_df['startYear'] = movies_df['startYear'].astype(int)\n"
     ]
    }
   ],
   "source": [
    "# Convert startYear value into int dtype\n",
    "movies_df['startYear'] = movies_df['startYear'].astype(int)"
   ]
  },
  {
   "cell_type": "code",
   "execution_count": 320,
   "metadata": {},
   "outputs": [
    {
     "name": "stdout",
     "output_type": "stream",
     "text": [
      "<class 'pandas.core.frame.DataFrame'>\n",
      "Int64Index: 376423 entries, 8 to 9875688\n",
      "Data columns (total 9 columns):\n",
      " #   Column          Non-Null Count   Dtype \n",
      "---  ------          --------------   ----- \n",
      " 0   tconst          376423 non-null  object\n",
      " 1   titleType       376423 non-null  object\n",
      " 2   primaryTitle    376423 non-null  object\n",
      " 3   originalTitle   376423 non-null  object\n",
      " 4   isAdult         376423 non-null  object\n",
      " 5   startYear       376423 non-null  int32 \n",
      " 6   endYear         376423 non-null  object\n",
      " 7   runtimeMinutes  376423 non-null  object\n",
      " 8   genres          376423 non-null  object\n",
      "dtypes: int32(1), object(8)\n",
      "memory usage: 27.3+ MB\n"
     ]
    }
   ],
   "source": [
    "movies_df.info()"
   ]
  },
  {
   "cell_type": "code",
   "execution_count": 321,
   "metadata": {},
   "outputs": [
    {
     "data": {
      "text/plain": [
       "2029"
      ]
     },
     "execution_count": 321,
     "metadata": {},
     "output_type": "execute_result"
    }
   ],
   "source": [
    "max(movies_df['startYear'])"
   ]
  },
  {
   "cell_type": "code",
   "execution_count": 322,
   "metadata": {},
   "outputs": [],
   "source": [
    "# Filter movies with only startYear 2000 to 2022\n",
    "year_filter_2000 = movies_df['startYear'] >= 2000\n",
    "year_filter_2021 = movies_df['startYear'] < 2022\n",
    "movies_20_to_21 = movies_df[year_filter_2000 & year_filter_2021]"
   ]
  },
  {
   "cell_type": "code",
   "execution_count": 323,
   "metadata": {},
   "outputs": [
    {
     "name": "stdout",
     "output_type": "stream",
     "text": [
      "<class 'pandas.core.frame.DataFrame'>\n",
      "Int64Index: 210633 entries, 13082 to 9875688\n",
      "Data columns (total 9 columns):\n",
      " #   Column          Non-Null Count   Dtype \n",
      "---  ------          --------------   ----- \n",
      " 0   tconst          210633 non-null  object\n",
      " 1   titleType       210633 non-null  object\n",
      " 2   primaryTitle    210633 non-null  object\n",
      " 3   originalTitle   210633 non-null  object\n",
      " 4   isAdult         210633 non-null  object\n",
      " 5   startYear       210633 non-null  int32 \n",
      " 6   endYear         210633 non-null  object\n",
      " 7   runtimeMinutes  210633 non-null  object\n",
      " 8   genres          210633 non-null  object\n",
      "dtypes: int32(1), object(8)\n",
      "memory usage: 15.3+ MB\n"
     ]
    }
   ],
   "source": [
    "movies_20_to_21.info()"
   ]
  },
  {
   "cell_type": "code",
   "execution_count": 324,
   "metadata": {},
   "outputs": [
    {
     "name": "stderr",
     "output_type": "stream",
     "text": [
      "C:\\Users\\kdelfino\\AppData\\Local\\Temp\\ipykernel_21820\\3761097234.py:2: SettingWithCopyWarning: \n",
      "A value is trying to be set on a copy of a slice from a DataFrame\n",
      "\n",
      "See the caveats in the documentation: https://pandas.pydata.org/pandas-docs/stable/user_guide/indexing.html#returning-a-view-versus-a-copy\n",
      "  movies_20_to_21.replace({'\\\\N':np.nan},inplace=True)\n"
     ]
    }
   ],
   "source": [
    "# Replace '\\N' values with np.nan\n",
    "movies_20_to_21.replace({'\\\\N':np.nan},inplace=True)\n"
   ]
  },
  {
   "cell_type": "code",
   "execution_count": 325,
   "metadata": {},
   "outputs": [
    {
     "name": "stdout",
     "output_type": "stream",
     "text": [
      "<class 'pandas.core.frame.DataFrame'>\n",
      "Int64Index: 210633 entries, 13082 to 9875688\n",
      "Data columns (total 9 columns):\n",
      " #   Column          Non-Null Count   Dtype  \n",
      "---  ------          --------------   -----  \n",
      " 0   tconst          210633 non-null  object \n",
      " 1   titleType       210633 non-null  object \n",
      " 2   primaryTitle    210633 non-null  object \n",
      " 3   originalTitle   210633 non-null  object \n",
      " 4   isAdult         210633 non-null  object \n",
      " 5   startYear       210633 non-null  int32  \n",
      " 6   endYear         0 non-null       float64\n",
      " 7   runtimeMinutes  210633 non-null  object \n",
      " 8   genres          210633 non-null  object \n",
      "dtypes: float64(1), int32(1), object(7)\n",
      "memory usage: 15.3+ MB\n"
     ]
    }
   ],
   "source": [
    "# Check df\n",
    "movies_20_to_21.info()"
   ]
  },
  {
   "cell_type": "code",
   "execution_count": 326,
   "metadata": {},
   "outputs": [
    {
     "data": {
      "text/html": [
       "<div>\n",
       "<style scoped>\n",
       "    .dataframe tbody tr th:only-of-type {\n",
       "        vertical-align: middle;\n",
       "    }\n",
       "\n",
       "    .dataframe tbody tr th {\n",
       "        vertical-align: top;\n",
       "    }\n",
       "\n",
       "    .dataframe thead th {\n",
       "        text-align: right;\n",
       "    }\n",
       "</style>\n",
       "<table border=\"1\" class=\"dataframe\">\n",
       "  <thead>\n",
       "    <tr style=\"text-align: right;\">\n",
       "      <th></th>\n",
       "      <th>tconst</th>\n",
       "      <th>titleType</th>\n",
       "      <th>primaryTitle</th>\n",
       "      <th>originalTitle</th>\n",
       "      <th>isAdult</th>\n",
       "      <th>startYear</th>\n",
       "      <th>endYear</th>\n",
       "      <th>runtimeMinutes</th>\n",
       "      <th>genres</th>\n",
       "    </tr>\n",
       "  </thead>\n",
       "  <tbody>\n",
       "    <tr>\n",
       "      <th>13082</th>\n",
       "      <td>tt0013274</td>\n",
       "      <td>movie</td>\n",
       "      <td>Istoriya grazhdanskoy voyny</td>\n",
       "      <td>Istoriya grazhdanskoy voyny</td>\n",
       "      <td>0</td>\n",
       "      <td>2021</td>\n",
       "      <td>NaN</td>\n",
       "      <td>94</td>\n",
       "      <td>Documentary</td>\n",
       "    </tr>\n",
       "    <tr>\n",
       "      <th>34803</th>\n",
       "      <td>tt0035423</td>\n",
       "      <td>movie</td>\n",
       "      <td>Kate &amp; Leopold</td>\n",
       "      <td>Kate &amp; Leopold</td>\n",
       "      <td>0</td>\n",
       "      <td>2001</td>\n",
       "      <td>NaN</td>\n",
       "      <td>118</td>\n",
       "      <td>Comedy,Fantasy,Romance</td>\n",
       "    </tr>\n",
       "    <tr>\n",
       "      <th>61115</th>\n",
       "      <td>tt0062336</td>\n",
       "      <td>movie</td>\n",
       "      <td>The Tango of the Widower and Its Distorting Mi...</td>\n",
       "      <td>El tango del viudo y su espejo deformante</td>\n",
       "      <td>0</td>\n",
       "      <td>2020</td>\n",
       "      <td>NaN</td>\n",
       "      <td>70</td>\n",
       "      <td>Drama</td>\n",
       "    </tr>\n",
       "    <tr>\n",
       "      <th>67668</th>\n",
       "      <td>tt0069049</td>\n",
       "      <td>movie</td>\n",
       "      <td>The Other Side of the Wind</td>\n",
       "      <td>The Other Side of the Wind</td>\n",
       "      <td>0</td>\n",
       "      <td>2018</td>\n",
       "      <td>NaN</td>\n",
       "      <td>122</td>\n",
       "      <td>Drama</td>\n",
       "    </tr>\n",
       "    <tr>\n",
       "      <th>86800</th>\n",
       "      <td>tt0088751</td>\n",
       "      <td>movie</td>\n",
       "      <td>The Naked Monster</td>\n",
       "      <td>The Naked Monster</td>\n",
       "      <td>0</td>\n",
       "      <td>2005</td>\n",
       "      <td>NaN</td>\n",
       "      <td>100</td>\n",
       "      <td>Comedy,Horror,Sci-Fi</td>\n",
       "    </tr>\n",
       "  </tbody>\n",
       "</table>\n",
       "</div>"
      ],
      "text/plain": [
       "          tconst titleType                                       primaryTitle  \\\n",
       "13082  tt0013274     movie                        Istoriya grazhdanskoy voyny   \n",
       "34803  tt0035423     movie                                     Kate & Leopold   \n",
       "61115  tt0062336     movie  The Tango of the Widower and Its Distorting Mi...   \n",
       "67668  tt0069049     movie                         The Other Side of the Wind   \n",
       "86800  tt0088751     movie                                  The Naked Monster   \n",
       "\n",
       "                                   originalTitle isAdult  startYear  endYear  \\\n",
       "13082                Istoriya grazhdanskoy voyny       0       2021      NaN   \n",
       "34803                             Kate & Leopold       0       2001      NaN   \n",
       "61115  El tango del viudo y su espejo deformante       0       2020      NaN   \n",
       "67668                 The Other Side of the Wind       0       2018      NaN   \n",
       "86800                          The Naked Monster       0       2005      NaN   \n",
       "\n",
       "      runtimeMinutes                  genres  \n",
       "13082             94             Documentary  \n",
       "34803            118  Comedy,Fantasy,Romance  \n",
       "61115             70                   Drama  \n",
       "67668            122                   Drama  \n",
       "86800            100    Comedy,Horror,Sci-Fi  "
      ]
     },
     "execution_count": 326,
     "metadata": {},
     "output_type": "execute_result"
    }
   ],
   "source": [
    "movies_20_to_21.head()"
   ]
  },
  {
   "cell_type": "code",
   "execution_count": 327,
   "metadata": {},
   "outputs": [],
   "source": [
    "# Filter out Documentary in our df\n",
    "is_documentary = movies_20_to_21['genres'].str.contains('fictional',case=False)\n",
    "movies_20_21_filtered = movies_20_to_21[~is_documentary]\n",
    "\n"
   ]
  },
  {
   "cell_type": "code",
   "execution_count": 328,
   "metadata": {},
   "outputs": [
    {
     "name": "stdout",
     "output_type": "stream",
     "text": [
      "<class 'pandas.core.frame.DataFrame'>\n",
      "Int64Index: 210633 entries, 13082 to 9875688\n",
      "Data columns (total 9 columns):\n",
      " #   Column          Non-Null Count   Dtype  \n",
      "---  ------          --------------   -----  \n",
      " 0   tconst          210633 non-null  object \n",
      " 1   titleType       210633 non-null  object \n",
      " 2   primaryTitle    210633 non-null  object \n",
      " 3   originalTitle   210633 non-null  object \n",
      " 4   isAdult         210633 non-null  object \n",
      " 5   startYear       210633 non-null  int32  \n",
      " 6   endYear         0 non-null       float64\n",
      " 7   runtimeMinutes  210633 non-null  object \n",
      " 8   genres          210633 non-null  object \n",
      "dtypes: float64(1), int32(1), object(7)\n",
      "memory usage: 15.3+ MB\n"
     ]
    }
   ],
   "source": [
    "movies_20_21_filtered.info()"
   ]
  },
  {
   "attachments": {},
   "cell_type": "markdown",
   "metadata": {},
   "source": [
    "### Preprocessing - AKAs"
   ]
  },
  {
   "cell_type": "code",
   "execution_count": 329,
   "metadata": {},
   "outputs": [
    {
     "name": "stdout",
     "output_type": "stream",
     "text": [
      "<class 'pandas.core.frame.DataFrame'>\n",
      "RangeIndex: 35996402 entries, 0 to 35996401\n",
      "Data columns (total 8 columns):\n",
      " #   Column           Dtype \n",
      "---  ------           ----- \n",
      " 0   titleId          object\n",
      " 1   ordering         int64 \n",
      " 2   title            object\n",
      " 3   region           object\n",
      " 4   language         object\n",
      " 5   types            object\n",
      " 6   attributes       object\n",
      " 7   isOriginalTitle  object\n",
      "dtypes: int64(1), object(7)\n",
      "memory usage: 2.1+ GB\n"
     ]
    }
   ],
   "source": [
    "# Check df \n",
    "akas.info()"
   ]
  },
  {
   "cell_type": "code",
   "execution_count": 330,
   "metadata": {},
   "outputs": [],
   "source": [
    "# Keep only US region\n",
    "us_akas = akas[akas['region']== 'US']"
   ]
  },
  {
   "cell_type": "code",
   "execution_count": 331,
   "metadata": {},
   "outputs": [
    {
     "name": "stderr",
     "output_type": "stream",
     "text": [
      "C:\\Users\\kdelfino\\AppData\\Local\\Temp\\ipykernel_21820\\4291115757.py:2: SettingWithCopyWarning: \n",
      "A value is trying to be set on a copy of a slice from a DataFrame\n",
      "\n",
      "See the caveats in the documentation: https://pandas.pydata.org/pandas-docs/stable/user_guide/indexing.html#returning-a-view-versus-a-copy\n",
      "  us_akas.replace({'\\\\N':np.nan},inplace=True)\n"
     ]
    }
   ],
   "source": [
    "# Replace '\\\\N' with np.nan\n",
    "us_akas.replace({'\\\\N':np.nan},inplace=True)"
   ]
  },
  {
   "cell_type": "code",
   "execution_count": 332,
   "metadata": {},
   "outputs": [
    {
     "data": {
      "text/html": [
       "<div>\n",
       "<style scoped>\n",
       "    .dataframe tbody tr th:only-of-type {\n",
       "        vertical-align: middle;\n",
       "    }\n",
       "\n",
       "    .dataframe tbody tr th {\n",
       "        vertical-align: top;\n",
       "    }\n",
       "\n",
       "    .dataframe thead th {\n",
       "        text-align: right;\n",
       "    }\n",
       "</style>\n",
       "<table border=\"1\" class=\"dataframe\">\n",
       "  <thead>\n",
       "    <tr style=\"text-align: right;\">\n",
       "      <th></th>\n",
       "      <th>titleId</th>\n",
       "      <th>ordering</th>\n",
       "      <th>title</th>\n",
       "      <th>region</th>\n",
       "      <th>language</th>\n",
       "      <th>types</th>\n",
       "      <th>attributes</th>\n",
       "      <th>isOriginalTitle</th>\n",
       "    </tr>\n",
       "  </thead>\n",
       "  <tbody>\n",
       "    <tr>\n",
       "      <th>3299779</th>\n",
       "      <td>tt0968539</td>\n",
       "      <td>1</td>\n",
       "      <td>Peepo on Trial</td>\n",
       "      <td>US</td>\n",
       "      <td>NaN</td>\n",
       "      <td>NaN</td>\n",
       "      <td>NaN</td>\n",
       "      <td>0</td>\n",
       "    </tr>\n",
       "    <tr>\n",
       "      <th>887930</th>\n",
       "      <td>tt0105395</td>\n",
       "      <td>16</td>\n",
       "      <td>Shootfighter: Fight to the Death</td>\n",
       "      <td>US</td>\n",
       "      <td>NaN</td>\n",
       "      <td>imdbDisplay</td>\n",
       "      <td>NaN</td>\n",
       "      <td>0</td>\n",
       "    </tr>\n",
       "    <tr>\n",
       "      <th>27408168</th>\n",
       "      <td>tt4397732</td>\n",
       "      <td>2</td>\n",
       "      <td>Talent You Should Know</td>\n",
       "      <td>US</td>\n",
       "      <td>NaN</td>\n",
       "      <td>imdbDisplay</td>\n",
       "      <td>NaN</td>\n",
       "      <td>0</td>\n",
       "    </tr>\n",
       "    <tr>\n",
       "      <th>29946489</th>\n",
       "      <td>tt6239150</td>\n",
       "      <td>2</td>\n",
       "      <td>Possessed by Love</td>\n",
       "      <td>US</td>\n",
       "      <td>NaN</td>\n",
       "      <td>imdbDisplay</td>\n",
       "      <td>NaN</td>\n",
       "      <td>0</td>\n",
       "    </tr>\n",
       "    <tr>\n",
       "      <th>14700297</th>\n",
       "      <td>tt15244244</td>\n",
       "      <td>2</td>\n",
       "      <td>Blixxie: Ice Cream</td>\n",
       "      <td>US</td>\n",
       "      <td>NaN</td>\n",
       "      <td>imdbDisplay</td>\n",
       "      <td>NaN</td>\n",
       "      <td>0</td>\n",
       "    </tr>\n",
       "  </tbody>\n",
       "</table>\n",
       "</div>"
      ],
      "text/plain": [
       "             titleId  ordering                             title region  \\\n",
       "3299779    tt0968539         1                    Peepo on Trial     US   \n",
       "887930     tt0105395        16  Shootfighter: Fight to the Death     US   \n",
       "27408168   tt4397732         2            Talent You Should Know     US   \n",
       "29946489   tt6239150         2                 Possessed by Love     US   \n",
       "14700297  tt15244244         2                Blixxie: Ice Cream     US   \n",
       "\n",
       "         language        types attributes isOriginalTitle  \n",
       "3299779       NaN          NaN        NaN               0  \n",
       "887930        NaN  imdbDisplay        NaN               0  \n",
       "27408168      NaN  imdbDisplay        NaN               0  \n",
       "29946489      NaN  imdbDisplay        NaN               0  \n",
       "14700297      NaN  imdbDisplay        NaN               0  "
      ]
     },
     "execution_count": 332,
     "metadata": {},
     "output_type": "execute_result"
    }
   ],
   "source": [
    "# Double check\n",
    "us_akas.sample(5)"
   ]
  },
  {
   "cell_type": "code",
   "execution_count": 333,
   "metadata": {},
   "outputs": [],
   "source": [
    "# Filter only US using AKAs dataset \n",
    "us_filter = movies_20_21_filtered['tconst'].isin(us_akas['titleId'])\n"
   ]
  },
  {
   "cell_type": "code",
   "execution_count": 334,
   "metadata": {},
   "outputs": [],
   "source": [
    "# Create filtered df\n",
    "us_movies_20_21_df = movies_20_21_filtered[us_filter]"
   ]
  },
  {
   "cell_type": "code",
   "execution_count": 335,
   "metadata": {},
   "outputs": [
    {
     "name": "stdout",
     "output_type": "stream",
     "text": [
      "<class 'pandas.core.frame.DataFrame'>\n",
      "Int64Index: 114218 entries, 34803 to 9875504\n",
      "Data columns (total 9 columns):\n",
      " #   Column          Non-Null Count   Dtype  \n",
      "---  ------          --------------   -----  \n",
      " 0   tconst          114218 non-null  object \n",
      " 1   titleType       114218 non-null  object \n",
      " 2   primaryTitle    114218 non-null  object \n",
      " 3   originalTitle   114218 non-null  object \n",
      " 4   isAdult         114218 non-null  object \n",
      " 5   startYear       114218 non-null  int32  \n",
      " 6   endYear         0 non-null       float64\n",
      " 7   runtimeMinutes  114218 non-null  object \n",
      " 8   genres          114218 non-null  object \n",
      "dtypes: float64(1), int32(1), object(7)\n",
      "memory usage: 8.3+ MB\n"
     ]
    }
   ],
   "source": [
    "# Doublec check df \n",
    "us_movies_20_21_df.info()"
   ]
  },
  {
   "cell_type": "code",
   "execution_count": 336,
   "metadata": {},
   "outputs": [
    {
     "data": {
      "text/html": [
       "<div>\n",
       "<style scoped>\n",
       "    .dataframe tbody tr th:only-of-type {\n",
       "        vertical-align: middle;\n",
       "    }\n",
       "\n",
       "    .dataframe tbody tr th {\n",
       "        vertical-align: top;\n",
       "    }\n",
       "\n",
       "    .dataframe thead th {\n",
       "        text-align: right;\n",
       "    }\n",
       "</style>\n",
       "<table border=\"1\" class=\"dataframe\">\n",
       "  <thead>\n",
       "    <tr style=\"text-align: right;\">\n",
       "      <th></th>\n",
       "      <th>tconst</th>\n",
       "      <th>titleType</th>\n",
       "      <th>primaryTitle</th>\n",
       "      <th>originalTitle</th>\n",
       "      <th>isAdult</th>\n",
       "      <th>startYear</th>\n",
       "      <th>endYear</th>\n",
       "      <th>runtimeMinutes</th>\n",
       "      <th>genres</th>\n",
       "    </tr>\n",
       "  </thead>\n",
       "  <tbody>\n",
       "    <tr>\n",
       "      <th>2489401</th>\n",
       "      <td>tt12768268</td>\n",
       "      <td>movie</td>\n",
       "      <td>How far a family movie can get</td>\n",
       "      <td>Até Onde Pode Chegar um Filme de Família</td>\n",
       "      <td>0</td>\n",
       "      <td>2019</td>\n",
       "      <td>NaN</td>\n",
       "      <td>75</td>\n",
       "      <td>Biography,Documentary</td>\n",
       "    </tr>\n",
       "    <tr>\n",
       "      <th>403836</th>\n",
       "      <td>tt0421059</td>\n",
       "      <td>movie</td>\n",
       "      <td>Gambling</td>\n",
       "      <td>Gambling</td>\n",
       "      <td>0</td>\n",
       "      <td>2004</td>\n",
       "      <td>NaN</td>\n",
       "      <td>90</td>\n",
       "      <td>Drama,Mystery</td>\n",
       "    </tr>\n",
       "    <tr>\n",
       "      <th>1108579</th>\n",
       "      <td>tt10253466</td>\n",
       "      <td>movie</td>\n",
       "      <td>Badland</td>\n",
       "      <td>Badland</td>\n",
       "      <td>0</td>\n",
       "      <td>2019</td>\n",
       "      <td>NaN</td>\n",
       "      <td>117</td>\n",
       "      <td>Drama,Western</td>\n",
       "    </tr>\n",
       "    <tr>\n",
       "      <th>8892448</th>\n",
       "      <td>tt7778420</td>\n",
       "      <td>movie</td>\n",
       "      <td>Close Friends</td>\n",
       "      <td>Close Friends</td>\n",
       "      <td>0</td>\n",
       "      <td>2018</td>\n",
       "      <td>NaN</td>\n",
       "      <td>70</td>\n",
       "      <td>Comedy,Drama,Romance</td>\n",
       "    </tr>\n",
       "    <tr>\n",
       "      <th>8187295</th>\n",
       "      <td>tt6217648</td>\n",
       "      <td>movie</td>\n",
       "      <td>House of Paper</td>\n",
       "      <td>House of Paper</td>\n",
       "      <td>0</td>\n",
       "      <td>2017</td>\n",
       "      <td>NaN</td>\n",
       "      <td>99</td>\n",
       "      <td>Drama</td>\n",
       "    </tr>\n",
       "  </tbody>\n",
       "</table>\n",
       "</div>"
      ],
      "text/plain": [
       "             tconst titleType                    primaryTitle  \\\n",
       "2489401  tt12768268     movie  How far a family movie can get   \n",
       "403836    tt0421059     movie                        Gambling   \n",
       "1108579  tt10253466     movie                         Badland   \n",
       "8892448   tt7778420     movie                   Close Friends   \n",
       "8187295   tt6217648     movie                  House of Paper   \n",
       "\n",
       "                                    originalTitle isAdult  startYear  endYear  \\\n",
       "2489401  Até Onde Pode Chegar um Filme de Família       0       2019      NaN   \n",
       "403836                                   Gambling       0       2004      NaN   \n",
       "1108579                                   Badland       0       2019      NaN   \n",
       "8892448                             Close Friends       0       2018      NaN   \n",
       "8187295                            House of Paper       0       2017      NaN   \n",
       "\n",
       "        runtimeMinutes                 genres  \n",
       "2489401             75  Biography,Documentary  \n",
       "403836              90          Drama,Mystery  \n",
       "1108579            117          Drama,Western  \n",
       "8892448             70   Comedy,Drama,Romance  \n",
       "8187295             99                  Drama  "
      ]
     },
     "execution_count": 336,
     "metadata": {},
     "output_type": "execute_result"
    }
   ],
   "source": [
    "us_movies_20_21_df.sample(5)"
   ]
  },
  {
   "attachments": {},
   "cell_type": "markdown",
   "metadata": {},
   "source": [
    "### Preprocessing - Ratings"
   ]
  },
  {
   "cell_type": "code",
   "execution_count": 337,
   "metadata": {},
   "outputs": [
    {
     "name": "stdout",
     "output_type": "stream",
     "text": [
      "<class 'pandas.core.frame.DataFrame'>\n",
      "RangeIndex: 1314729 entries, 0 to 1314728\n",
      "Data columns (total 3 columns):\n",
      " #   Column         Non-Null Count    Dtype  \n",
      "---  ------         --------------    -----  \n",
      " 0   tconst         1314729 non-null  object \n",
      " 1   averageRating  1314729 non-null  float64\n",
      " 2   numVotes       1314729 non-null  int64  \n",
      "dtypes: float64(1), int64(1), object(1)\n",
      "memory usage: 30.1+ MB\n"
     ]
    }
   ],
   "source": [
    "# Check df\n",
    "ratings.info()"
   ]
  },
  {
   "cell_type": "code",
   "execution_count": 338,
   "metadata": {},
   "outputs": [
    {
     "data": {
      "text/html": [
       "<div>\n",
       "<style scoped>\n",
       "    .dataframe tbody tr th:only-of-type {\n",
       "        vertical-align: middle;\n",
       "    }\n",
       "\n",
       "    .dataframe tbody tr th {\n",
       "        vertical-align: top;\n",
       "    }\n",
       "\n",
       "    .dataframe thead th {\n",
       "        text-align: right;\n",
       "    }\n",
       "</style>\n",
       "<table border=\"1\" class=\"dataframe\">\n",
       "  <thead>\n",
       "    <tr style=\"text-align: right;\">\n",
       "      <th></th>\n",
       "      <th>tconst</th>\n",
       "      <th>averageRating</th>\n",
       "      <th>numVotes</th>\n",
       "    </tr>\n",
       "  </thead>\n",
       "  <tbody>\n",
       "    <tr>\n",
       "      <th>375504</th>\n",
       "      <td>tt0755441</td>\n",
       "      <td>7.2</td>\n",
       "      <td>6</td>\n",
       "    </tr>\n",
       "    <tr>\n",
       "      <th>293782</th>\n",
       "      <td>tt0566449</td>\n",
       "      <td>6.8</td>\n",
       "      <td>121</td>\n",
       "    </tr>\n",
       "    <tr>\n",
       "      <th>34216</th>\n",
       "      <td>tt0054912</td>\n",
       "      <td>5.5</td>\n",
       "      <td>593</td>\n",
       "    </tr>\n",
       "    <tr>\n",
       "      <th>618019</th>\n",
       "      <td>tt13314962</td>\n",
       "      <td>7.5</td>\n",
       "      <td>9</td>\n",
       "    </tr>\n",
       "    <tr>\n",
       "      <th>761225</th>\n",
       "      <td>tt17016944</td>\n",
       "      <td>7.3</td>\n",
       "      <td>9</td>\n",
       "    </tr>\n",
       "  </tbody>\n",
       "</table>\n",
       "</div>"
      ],
      "text/plain": [
       "            tconst  averageRating  numVotes\n",
       "375504   tt0755441            7.2         6\n",
       "293782   tt0566449            6.8       121\n",
       "34216    tt0054912            5.5       593\n",
       "618019  tt13314962            7.5         9\n",
       "761225  tt17016944            7.3         9"
      ]
     },
     "execution_count": 338,
     "metadata": {},
     "output_type": "execute_result"
    }
   ],
   "source": [
    "ratings.sample(5)"
   ]
  },
  {
   "cell_type": "code",
   "execution_count": 339,
   "metadata": {},
   "outputs": [],
   "source": [
    "# Filter only US region\n",
    "us_rating_filter =  ratings['tconst'].isin(us_akas['titleId'])"
   ]
  },
  {
   "cell_type": "code",
   "execution_count": 340,
   "metadata": {},
   "outputs": [
    {
     "name": "stderr",
     "output_type": "stream",
     "text": [
      "C:\\Users\\kdelfino\\AppData\\Local\\Temp\\ipykernel_21820\\2744651486.py:5: SettingWithCopyWarning: \n",
      "A value is trying to be set on a copy of a slice from a DataFrame\n",
      "\n",
      "See the caveats in the documentation: https://pandas.pydata.org/pandas-docs/stable/user_guide/indexing.html#returning-a-view-versus-a-copy\n",
      "  us_ratings_df.replace({'\\\\N':np.nan},inplace=True)\n"
     ]
    }
   ],
   "source": [
    "# Create filtered df \n",
    "us_ratings_df = ratings[us_rating_filter]\n",
    "\n",
    "# Replace '\\\\N' with np.nan\n",
    "us_ratings_df.replace({'\\\\N':np.nan},inplace=True)"
   ]
  },
  {
   "cell_type": "code",
   "execution_count": 341,
   "metadata": {},
   "outputs": [
    {
     "name": "stdout",
     "output_type": "stream",
     "text": [
      "<class 'pandas.core.frame.DataFrame'>\n",
      "Int64Index: 499798 entries, 0 to 1314704\n",
      "Data columns (total 3 columns):\n",
      " #   Column         Non-Null Count   Dtype  \n",
      "---  ------         --------------   -----  \n",
      " 0   tconst         499798 non-null  object \n",
      " 1   averageRating  499798 non-null  float64\n",
      " 2   numVotes       499798 non-null  int64  \n",
      "dtypes: float64(1), int64(1), object(1)\n",
      "memory usage: 15.3+ MB\n"
     ]
    }
   ],
   "source": [
    "# Double check df\n",
    "us_ratings_df.info()"
   ]
  },
  {
   "cell_type": "code",
   "execution_count": 342,
   "metadata": {},
   "outputs": [
    {
     "data": {
      "text/html": [
       "<div>\n",
       "<style scoped>\n",
       "    .dataframe tbody tr th:only-of-type {\n",
       "        vertical-align: middle;\n",
       "    }\n",
       "\n",
       "    .dataframe tbody tr th {\n",
       "        vertical-align: top;\n",
       "    }\n",
       "\n",
       "    .dataframe thead th {\n",
       "        text-align: right;\n",
       "    }\n",
       "</style>\n",
       "<table border=\"1\" class=\"dataframe\">\n",
       "  <thead>\n",
       "    <tr style=\"text-align: right;\">\n",
       "      <th></th>\n",
       "      <th>tconst</th>\n",
       "      <th>averageRating</th>\n",
       "      <th>numVotes</th>\n",
       "    </tr>\n",
       "  </thead>\n",
       "  <tbody>\n",
       "    <tr>\n",
       "      <th>1033364</th>\n",
       "      <td>tt4136020</td>\n",
       "      <td>5.2</td>\n",
       "      <td>15</td>\n",
       "    </tr>\n",
       "    <tr>\n",
       "      <th>1038401</th>\n",
       "      <td>tt4212436</td>\n",
       "      <td>7.4</td>\n",
       "      <td>6</td>\n",
       "    </tr>\n",
       "    <tr>\n",
       "      <th>785042</th>\n",
       "      <td>tt1809249</td>\n",
       "      <td>6.3</td>\n",
       "      <td>20</td>\n",
       "    </tr>\n",
       "    <tr>\n",
       "      <th>928426</th>\n",
       "      <td>tt2644714</td>\n",
       "      <td>4.5</td>\n",
       "      <td>3020</td>\n",
       "    </tr>\n",
       "    <tr>\n",
       "      <th>20472</th>\n",
       "      <td>tt0038535</td>\n",
       "      <td>4.2</td>\n",
       "      <td>84</td>\n",
       "    </tr>\n",
       "  </tbody>\n",
       "</table>\n",
       "</div>"
      ],
      "text/plain": [
       "            tconst  averageRating  numVotes\n",
       "1033364  tt4136020            5.2        15\n",
       "1038401  tt4212436            7.4         6\n",
       "785042   tt1809249            6.3        20\n",
       "928426   tt2644714            4.5      3020\n",
       "20472    tt0038535            4.2        84"
      ]
     },
     "execution_count": 342,
     "metadata": {},
     "output_type": "execute_result"
    }
   ],
   "source": [
    "us_ratings_df.sample(5)"
   ]
  },
  {
   "cell_type": "code",
   "execution_count": 343,
   "metadata": {},
   "outputs": [
    {
     "data": {
      "text/plain": [
       "['title_akas.csv.gz', 'title_basics.csv.gz', 'title_ratings.csv.gz']"
      ]
     },
     "execution_count": 343,
     "metadata": {},
     "output_type": "execute_result"
    }
   ],
   "source": [
    "# example making new folder with os\n",
    "import os\n",
    "os.makedirs('Data/',exist_ok=True) \n",
    "# Confirm folder created\n",
    "os.listdir(\"Data/\")\n"
   ]
  },
  {
   "cell_type": "code",
   "execution_count": 344,
   "metadata": {},
   "outputs": [],
   "source": [
    "## Save dataframe to file.\n",
    "us_movies_20_21_df.to_csv(\"Data/title_basics.csv.gz\",compression='gzip',index=False)\n",
    "\n",
    "us_ratings_df.to_csv(\"Data/title_ratings.csv.gz\",compression='gzip',index=False)\n",
    "\n",
    "us_akas.to_csv(\"Data/title_akas.csv.gz\",compression='gzip',index=False)\n",
    "\n"
   ]
  }
 ],
 "metadata": {
  "kernelspec": {
   "display_name": "dojo-env",
   "language": "python",
   "name": "python3"
  },
  "language_info": {
   "codemirror_mode": {
    "name": "ipython",
    "version": 3
   },
   "file_extension": ".py",
   "mimetype": "text/x-python",
   "name": "python",
   "nbconvert_exporter": "python",
   "pygments_lexer": "ipython3",
   "version": "3.9.15"
  },
  "orig_nbformat": 4
 },
 "nbformat": 4,
 "nbformat_minor": 2
}
